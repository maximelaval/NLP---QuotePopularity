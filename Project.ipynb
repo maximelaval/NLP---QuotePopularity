{
  "nbformat": 4,
  "nbformat_minor": 0,
  "metadata": {
    "colab": {
      "name": "Project.ipynb",
      "provenance": []
    },
    "kernelspec": {
      "name": "python3",
      "display_name": "Python 3"
    },
    "language_info": {
      "name": "python"
    }
  },
  "cells": [
    {
      "cell_type": "markdown",
      "source": [
        "# Data exploration"
      ],
      "metadata": {
        "id": "Aor57tljrCoL"
      }
    },
    {
      "cell_type": "code",
      "execution_count": null,
      "metadata": {
        "colab": {
          "base_uri": "https://localhost:8080/"
        },
        "id": "30d408bb",
        "outputId": "7463596f-6805-4c78-8dde-3c97cc20abe3"
      },
      "outputs": [
        {
          "output_type": "stream",
          "name": "stderr",
          "text": [
            "/usr/local/lib/python3.7/dist-packages/statsmodels/tools/_testing.py:19: FutureWarning: pandas.util.testing is deprecated. Use the functions in the public API at pandas.testing instead.\n",
            "  import pandas.util.testing as tm\n"
          ]
        },
        {
          "output_type": "stream",
          "name": "stdout",
          "text": [
            "Drive already mounted at /content/drive; to attempt to forcibly remount, call drive.mount(\"/content/drive\", force_remount=True).\n"
          ]
        }
      ],
      "source": [
        "import matplotlib\n",
        "import pandas as pd\n",
        "import numpy as np\n",
        "import matplotlib.pyplot as plt\n",
        "import seaborn as sns\n",
        "import statsmodels.api as sm\n",
        "\n",
        "from google.colab import drive\n",
        "drive.mount('/content/drive')\n",
        "path = '/content/drive/MyDrive/Quotebank/'\n",
        "sns.set(style=\"white\", rc={'figure.figsize':(7,5)})\n",
        "%matplotlib inline"
      ]
    },
    {
      "cell_type": "code",
      "execution_count": null,
      "metadata": {
        "colab": {
          "base_uri": "https://localhost:8080/",
          "height": 884
        },
        "id": "202b9016",
        "outputId": "3b22cbec-11c2-4eb9-a270-d4b76cbb5578"
      },
      "outputs": [
        {
          "output_type": "stream",
          "name": "stderr",
          "text": [
            "/usr/local/lib/python3.7/dist-packages/numpy/lib/arraysetops.py:580: FutureWarning: elementwise comparison failed; returning scalar instead, but in the future will perform elementwise comparison\n",
            "  mask |= (ar1 == a)\n",
            "/usr/local/lib/python3.7/dist-packages/pandas/core/series.py:726: RuntimeWarning: divide by zero encountered in log\n",
            "  result = getattr(ufunc, method)(*inputs, **kwargs)\n"
          ]
        },
        {
          "output_type": "execute_result",
          "data": {
            "text/html": [
              "\n",
              "  <div id=\"df-be501323-55aa-48f1-a6d1-26514363b9ad\">\n",
              "    <div class=\"colab-df-container\">\n",
              "      <div>\n",
              "<style scoped>\n",
              "    .dataframe tbody tr th:only-of-type {\n",
              "        vertical-align: middle;\n",
              "    }\n",
              "\n",
              "    .dataframe tbody tr th {\n",
              "        vertical-align: top;\n",
              "    }\n",
              "\n",
              "    .dataframe thead th {\n",
              "        text-align: right;\n",
              "    }\n",
              "</style>\n",
              "<table border=\"1\" class=\"dataframe\">\n",
              "  <thead>\n",
              "    <tr style=\"text-align: right;\">\n",
              "      <th></th>\n",
              "      <th>numWords</th>\n",
              "      <th>speaker</th>\n",
              "      <th>numOccurrences</th>\n",
              "      <th>averageWordLength</th>\n",
              "      <th>largestWordLength</th>\n",
              "      <th>numOfPunctuation</th>\n",
              "      <th>numRepeatedWords</th>\n",
              "      <th>date</th>\n",
              "      <th>lgNumOcc</th>\n",
              "      <th>lgWords</th>\n",
              "      <th>lg_averageWordLength</th>\n",
              "      <th>lg_largestWordLength</th>\n",
              "    </tr>\n",
              "  </thead>\n",
              "  <tbody>\n",
              "    <tr>\n",
              "      <th>0</th>\n",
              "      <td>39</td>\n",
              "      <td>Kathryn Minshew</td>\n",
              "      <td>1</td>\n",
              "      <td>4.13</td>\n",
              "      <td>11</td>\n",
              "      <td>2</td>\n",
              "      <td>6</td>\n",
              "      <td>2017-05-01 17:00:00</td>\n",
              "      <td>0.000000</td>\n",
              "      <td>3.663562</td>\n",
              "      <td>1.418277</td>\n",
              "      <td>2.397895</td>\n",
              "    </tr>\n",
              "    <tr>\n",
              "      <th>1</th>\n",
              "      <td>37</td>\n",
              "      <td>Olivia Newton-John</td>\n",
              "      <td>14</td>\n",
              "      <td>4.16</td>\n",
              "      <td>10</td>\n",
              "      <td>10</td>\n",
              "      <td>6</td>\n",
              "      <td>2017-09-12 00:00:00</td>\n",
              "      <td>2.639057</td>\n",
              "      <td>3.610918</td>\n",
              "      <td>1.425515</td>\n",
              "      <td>2.302585</td>\n",
              "    </tr>\n",
              "    <tr>\n",
              "      <th>2</th>\n",
              "      <td>36</td>\n",
              "      <td>Radha Stirling</td>\n",
              "      <td>2</td>\n",
              "      <td>4.78</td>\n",
              "      <td>10</td>\n",
              "      <td>3</td>\n",
              "      <td>3</td>\n",
              "      <td>2017-10-24 23:57:43</td>\n",
              "      <td>0.693147</td>\n",
              "      <td>3.583519</td>\n",
              "      <td>1.564441</td>\n",
              "      <td>2.302585</td>\n",
              "    </tr>\n",
              "    <tr>\n",
              "      <th>3</th>\n",
              "      <td>17</td>\n",
              "      <td>None</td>\n",
              "      <td>1</td>\n",
              "      <td>3.88</td>\n",
              "      <td>9</td>\n",
              "      <td>3</td>\n",
              "      <td>1</td>\n",
              "      <td>2017-12-04 01:57:56</td>\n",
              "      <td>0.000000</td>\n",
              "      <td>2.833213</td>\n",
              "      <td>1.355835</td>\n",
              "      <td>2.197225</td>\n",
              "    </tr>\n",
              "    <tr>\n",
              "      <th>4</th>\n",
              "      <td>16</td>\n",
              "      <td>Viral Acharya</td>\n",
              "      <td>2</td>\n",
              "      <td>4.81</td>\n",
              "      <td>13</td>\n",
              "      <td>4</td>\n",
              "      <td>1</td>\n",
              "      <td>2017-06-08 09:51:00</td>\n",
              "      <td>0.693147</td>\n",
              "      <td>2.772589</td>\n",
              "      <td>1.570697</td>\n",
              "      <td>2.564949</td>\n",
              "    </tr>\n",
              "    <tr>\n",
              "      <th>...</th>\n",
              "      <td>...</td>\n",
              "      <td>...</td>\n",
              "      <td>...</td>\n",
              "      <td>...</td>\n",
              "      <td>...</td>\n",
              "      <td>...</td>\n",
              "      <td>...</td>\n",
              "      <td>...</td>\n",
              "      <td>...</td>\n",
              "      <td>...</td>\n",
              "      <td>...</td>\n",
              "      <td>...</td>\n",
              "    </tr>\n",
              "    <tr>\n",
              "      <th>26611583</th>\n",
              "      <td>7</td>\n",
              "      <td>None</td>\n",
              "      <td>12</td>\n",
              "      <td>4.71</td>\n",
              "      <td>9</td>\n",
              "      <td>1</td>\n",
              "      <td>0</td>\n",
              "      <td>2017-07-17 20:39:32</td>\n",
              "      <td>2.484907</td>\n",
              "      <td>1.945910</td>\n",
              "      <td>1.549688</td>\n",
              "      <td>2.197225</td>\n",
              "    </tr>\n",
              "    <tr>\n",
              "      <th>26611584</th>\n",
              "      <td>35</td>\n",
              "      <td>Malcolm Hill</td>\n",
              "      <td>1</td>\n",
              "      <td>4.54</td>\n",
              "      <td>11</td>\n",
              "      <td>8</td>\n",
              "      <td>10</td>\n",
              "      <td>2017-06-23 23:07:15</td>\n",
              "      <td>0.000000</td>\n",
              "      <td>3.555348</td>\n",
              "      <td>1.512927</td>\n",
              "      <td>2.397895</td>\n",
              "    </tr>\n",
              "    <tr>\n",
              "      <th>26611585</th>\n",
              "      <td>11</td>\n",
              "      <td>Andrew Gillum</td>\n",
              "      <td>1</td>\n",
              "      <td>5.09</td>\n",
              "      <td>11</td>\n",
              "      <td>2</td>\n",
              "      <td>1</td>\n",
              "      <td>2017-10-22 17:09:47</td>\n",
              "      <td>0.000000</td>\n",
              "      <td>2.397895</td>\n",
              "      <td>1.627278</td>\n",
              "      <td>2.397895</td>\n",
              "    </tr>\n",
              "    <tr>\n",
              "      <th>26611586</th>\n",
              "      <td>15</td>\n",
              "      <td>Rick George</td>\n",
              "      <td>1</td>\n",
              "      <td>3.87</td>\n",
              "      <td>8</td>\n",
              "      <td>3</td>\n",
              "      <td>1</td>\n",
              "      <td>2017-08-02 00:00:00</td>\n",
              "      <td>0.000000</td>\n",
              "      <td>2.708050</td>\n",
              "      <td>1.353255</td>\n",
              "      <td>2.079442</td>\n",
              "    </tr>\n",
              "    <tr>\n",
              "      <th>26611587</th>\n",
              "      <td>17</td>\n",
              "      <td>None</td>\n",
              "      <td>1</td>\n",
              "      <td>3.82</td>\n",
              "      <td>7</td>\n",
              "      <td>3</td>\n",
              "      <td>0</td>\n",
              "      <td>2017-10-26 15:30:00</td>\n",
              "      <td>0.000000</td>\n",
              "      <td>2.833213</td>\n",
              "      <td>1.340250</td>\n",
              "      <td>1.945910</td>\n",
              "    </tr>\n",
              "  </tbody>\n",
              "</table>\n",
              "<p>26611588 rows × 12 columns</p>\n",
              "</div>\n",
              "      <button class=\"colab-df-convert\" onclick=\"convertToInteractive('df-be501323-55aa-48f1-a6d1-26514363b9ad')\"\n",
              "              title=\"Convert this dataframe to an interactive table.\"\n",
              "              style=\"display:none;\">\n",
              "        \n",
              "  <svg xmlns=\"http://www.w3.org/2000/svg\" height=\"24px\"viewBox=\"0 0 24 24\"\n",
              "       width=\"24px\">\n",
              "    <path d=\"M0 0h24v24H0V0z\" fill=\"none\"/>\n",
              "    <path d=\"M18.56 5.44l.94 2.06.94-2.06 2.06-.94-2.06-.94-.94-2.06-.94 2.06-2.06.94zm-11 1L8.5 8.5l.94-2.06 2.06-.94-2.06-.94L8.5 2.5l-.94 2.06-2.06.94zm10 10l.94 2.06.94-2.06 2.06-.94-2.06-.94-.94-2.06-.94 2.06-2.06.94z\"/><path d=\"M17.41 7.96l-1.37-1.37c-.4-.4-.92-.59-1.43-.59-.52 0-1.04.2-1.43.59L10.3 9.45l-7.72 7.72c-.78.78-.78 2.05 0 2.83L4 21.41c.39.39.9.59 1.41.59.51 0 1.02-.2 1.41-.59l7.78-7.78 2.81-2.81c.8-.78.8-2.07 0-2.86zM5.41 20L4 18.59l7.72-7.72 1.47 1.35L5.41 20z\"/>\n",
              "  </svg>\n",
              "      </button>\n",
              "      \n",
              "  <style>\n",
              "    .colab-df-container {\n",
              "      display:flex;\n",
              "      flex-wrap:wrap;\n",
              "      gap: 12px;\n",
              "    }\n",
              "\n",
              "    .colab-df-convert {\n",
              "      background-color: #E8F0FE;\n",
              "      border: none;\n",
              "      border-radius: 50%;\n",
              "      cursor: pointer;\n",
              "      display: none;\n",
              "      fill: #1967D2;\n",
              "      height: 32px;\n",
              "      padding: 0 0 0 0;\n",
              "      width: 32px;\n",
              "    }\n",
              "\n",
              "    .colab-df-convert:hover {\n",
              "      background-color: #E2EBFA;\n",
              "      box-shadow: 0px 1px 2px rgba(60, 64, 67, 0.3), 0px 1px 3px 1px rgba(60, 64, 67, 0.15);\n",
              "      fill: #174EA6;\n",
              "    }\n",
              "\n",
              "    [theme=dark] .colab-df-convert {\n",
              "      background-color: #3B4455;\n",
              "      fill: #D2E3FC;\n",
              "    }\n",
              "\n",
              "    [theme=dark] .colab-df-convert:hover {\n",
              "      background-color: #434B5C;\n",
              "      box-shadow: 0px 1px 3px 1px rgba(0, 0, 0, 0.15);\n",
              "      filter: drop-shadow(0px 1px 2px rgba(0, 0, 0, 0.3));\n",
              "      fill: #FFFFFF;\n",
              "    }\n",
              "  </style>\n",
              "\n",
              "      <script>\n",
              "        const buttonEl =\n",
              "          document.querySelector('#df-be501323-55aa-48f1-a6d1-26514363b9ad button.colab-df-convert');\n",
              "        buttonEl.style.display =\n",
              "          google.colab.kernel.accessAllowed ? 'block' : 'none';\n",
              "\n",
              "        async function convertToInteractive(key) {\n",
              "          const element = document.querySelector('#df-be501323-55aa-48f1-a6d1-26514363b9ad');\n",
              "          const dataTable =\n",
              "            await google.colab.kernel.invokeFunction('convertToInteractive',\n",
              "                                                     [key], {});\n",
              "          if (!dataTable) return;\n",
              "\n",
              "          const docLinkHtml = 'Like what you see? Visit the ' +\n",
              "            '<a target=\"_blank\" href=https://colab.research.google.com/notebooks/data_table.ipynb>data table notebook</a>'\n",
              "            + ' to learn more about interactive tables.';\n",
              "          element.innerHTML = '';\n",
              "          dataTable['output_type'] = 'display_data';\n",
              "          await google.colab.output.renderOutput(dataTable, element);\n",
              "          const docLink = document.createElement('div');\n",
              "          docLink.innerHTML = docLinkHtml;\n",
              "          element.appendChild(docLink);\n",
              "        }\n",
              "      </script>\n",
              "    </div>\n",
              "  </div>\n",
              "  "
            ],
            "text/plain": [
              "          numWords  ... lg_largestWordLength\n",
              "0               39  ...             2.397895\n",
              "1               37  ...             2.302585\n",
              "2               36  ...             2.302585\n",
              "3               17  ...             2.197225\n",
              "4               16  ...             2.564949\n",
              "...            ...  ...                  ...\n",
              "26611583         7  ...             2.197225\n",
              "26611584        35  ...             2.397895\n",
              "26611585        11  ...             2.397895\n",
              "26611586        15  ...             2.079442\n",
              "26611587        17  ...             1.945910\n",
              "\n",
              "[26611588 rows x 12 columns]"
            ]
          },
          "metadata": {},
          "execution_count": 2
        }
      ],
      "source": [
        "NS = 500000\n",
        "toskip = [NS*i+i for i in range(1,1000)]\n",
        "df = pd.read_csv(path+'quotes-2017.csv', sep = ';', skiprows = toskip, index_col=0, parse_dates=['date'], infer_datetime_format=True,\n",
        "                 dtype={'numWords':np.int64, 'numOccurrences':np.int64, 'averageWordLength':np.float64, 'largestWordLength':np.int32, \n",
        "                        'numOfPunctuation':np.int32, 'numRepeatedWords':np.int32, 'numNumbers':np.int32})\n",
        "\n",
        "df = df.drop(['numNumbers'], axis = 1)\n",
        "df['lgNumOcc'] = np.log(df['numOccurrences'])\n",
        "df['lgWords'] = np.log(df['numWords'])\n",
        "df['lg_averageWordLength'] = np.log(df['averageWordLength'])\n",
        "df['lg_largestWordLength'] = np.log(df['largestWordLength'])\n",
        "df"
      ]
    },
    {
      "cell_type": "code",
      "execution_count": null,
      "metadata": {
        "colab": {
          "base_uri": "https://localhost:8080/",
          "height": 482
        },
        "outputId": "ca35d592-4252-4fab-f675-f972105b6f4a",
        "id": "BDGaSm1pw-jJ"
      },
      "outputs": [
        {
          "output_type": "execute_result",
          "data": {
            "text/html": [
              "\n",
              "  <div id=\"df-66874de4-52c6-4d7f-8767-5779f37286d5\">\n",
              "    <div class=\"colab-df-container\">\n",
              "      <div>\n",
              "<style scoped>\n",
              "    .dataframe tbody tr th:only-of-type {\n",
              "        vertical-align: middle;\n",
              "    }\n",
              "\n",
              "    .dataframe tbody tr th {\n",
              "        vertical-align: top;\n",
              "    }\n",
              "\n",
              "    .dataframe thead th {\n",
              "        text-align: right;\n",
              "    }\n",
              "</style>\n",
              "<table border=\"1\" class=\"dataframe\">\n",
              "  <thead>\n",
              "    <tr style=\"text-align: right;\">\n",
              "      <th></th>\n",
              "      <th>numWords</th>\n",
              "      <th>numOccurrences</th>\n",
              "      <th>averageWordLength</th>\n",
              "      <th>largestWordLength</th>\n",
              "      <th>numOfPunctuation</th>\n",
              "      <th>numRepeatedWords</th>\n",
              "      <th>lgNumOcc</th>\n",
              "      <th>lgWords</th>\n",
              "      <th>lg_averageWordLength</th>\n",
              "      <th>lg_largestWordLength</th>\n",
              "    </tr>\n",
              "  </thead>\n",
              "  <tbody>\n",
              "    <tr>\n",
              "      <th>count</th>\n",
              "      <td>2.661159e+07</td>\n",
              "      <td>2.661159e+07</td>\n",
              "      <td>2.661159e+07</td>\n",
              "      <td>2.661159e+07</td>\n",
              "      <td>2.661159e+07</td>\n",
              "      <td>2.661159e+07</td>\n",
              "      <td>2.661159e+07</td>\n",
              "      <td>2.661159e+07</td>\n",
              "      <td>2.661159e+07</td>\n",
              "      <td>2.661159e+07</td>\n",
              "    </tr>\n",
              "    <tr>\n",
              "      <th>mean</th>\n",
              "      <td>2.374433e+01</td>\n",
              "      <td>5.122833e+00</td>\n",
              "      <td>4.431168e+00</td>\n",
              "      <td>9.583131e+00</td>\n",
              "      <td>3.788829e+00</td>\n",
              "      <td>2.421066e+00</td>\n",
              "      <td>5.481320e-01</td>\n",
              "      <td>-inf</td>\n",
              "      <td>-inf</td>\n",
              "      <td>-inf</td>\n",
              "    </tr>\n",
              "    <tr>\n",
              "      <th>std</th>\n",
              "      <td>1.900690e+01</td>\n",
              "      <td>2.177953e+02</td>\n",
              "      <td>7.581327e-01</td>\n",
              "      <td>2.303701e+00</td>\n",
              "      <td>3.678392e+00</td>\n",
              "      <td>3.433427e+00</td>\n",
              "      <td>9.072507e-01</td>\n",
              "      <td>NaN</td>\n",
              "      <td>NaN</td>\n",
              "      <td>NaN</td>\n",
              "    </tr>\n",
              "    <tr>\n",
              "      <th>min</th>\n",
              "      <td>0.000000e+00</td>\n",
              "      <td>1.000000e+00</td>\n",
              "      <td>0.000000e+00</td>\n",
              "      <td>0.000000e+00</td>\n",
              "      <td>0.000000e+00</td>\n",
              "      <td>0.000000e+00</td>\n",
              "      <td>0.000000e+00</td>\n",
              "      <td>-inf</td>\n",
              "      <td>-inf</td>\n",
              "      <td>-inf</td>\n",
              "    </tr>\n",
              "    <tr>\n",
              "      <th>1%</th>\n",
              "      <td>4.000000e+00</td>\n",
              "      <td>1.000000e+00</td>\n",
              "      <td>3.000000e+00</td>\n",
              "      <td>5.000000e+00</td>\n",
              "      <td>0.000000e+00</td>\n",
              "      <td>0.000000e+00</td>\n",
              "      <td>0.000000e+00</td>\n",
              "      <td>1.386294e+00</td>\n",
              "      <td>1.098612e+00</td>\n",
              "      <td>1.609438e+00</td>\n",
              "    </tr>\n",
              "    <tr>\n",
              "      <th>10%</th>\n",
              "      <td>7.000000e+00</td>\n",
              "      <td>1.000000e+00</td>\n",
              "      <td>3.580000e+00</td>\n",
              "      <td>7.000000e+00</td>\n",
              "      <td>1.000000e+00</td>\n",
              "      <td>0.000000e+00</td>\n",
              "      <td>0.000000e+00</td>\n",
              "      <td>1.945910e+00</td>\n",
              "      <td>1.275363e+00</td>\n",
              "      <td>1.945910e+00</td>\n",
              "    </tr>\n",
              "    <tr>\n",
              "      <th>25%</th>\n",
              "      <td>1.100000e+01</td>\n",
              "      <td>1.000000e+00</td>\n",
              "      <td>3.910000e+00</td>\n",
              "      <td>8.000000e+00</td>\n",
              "      <td>2.000000e+00</td>\n",
              "      <td>0.000000e+00</td>\n",
              "      <td>0.000000e+00</td>\n",
              "      <td>2.397895e+00</td>\n",
              "      <td>1.363537e+00</td>\n",
              "      <td>2.079442e+00</td>\n",
              "    </tr>\n",
              "    <tr>\n",
              "      <th>50%</th>\n",
              "      <td>1.900000e+01</td>\n",
              "      <td>1.000000e+00</td>\n",
              "      <td>4.330000e+00</td>\n",
              "      <td>1.000000e+01</td>\n",
              "      <td>3.000000e+00</td>\n",
              "      <td>1.000000e+00</td>\n",
              "      <td>0.000000e+00</td>\n",
              "      <td>2.944439e+00</td>\n",
              "      <td>1.465568e+00</td>\n",
              "      <td>2.302585e+00</td>\n",
              "    </tr>\n",
              "    <tr>\n",
              "      <th>75%</th>\n",
              "      <td>3.100000e+01</td>\n",
              "      <td>2.000000e+00</td>\n",
              "      <td>4.850000e+00</td>\n",
              "      <td>1.100000e+01</td>\n",
              "      <td>5.000000e+00</td>\n",
              "      <td>3.000000e+00</td>\n",
              "      <td>6.931472e-01</td>\n",
              "      <td>3.433987e+00</td>\n",
              "      <td>1.578979e+00</td>\n",
              "      <td>2.397895e+00</td>\n",
              "    </tr>\n",
              "    <tr>\n",
              "      <th>90%</th>\n",
              "      <td>4.500000e+01</td>\n",
              "      <td>5.000000e+00</td>\n",
              "      <td>5.400000e+00</td>\n",
              "      <td>1.300000e+01</td>\n",
              "      <td>8.000000e+00</td>\n",
              "      <td>6.000000e+00</td>\n",
              "      <td>1.609438e+00</td>\n",
              "      <td>3.806662e+00</td>\n",
              "      <td>1.686399e+00</td>\n",
              "      <td>2.564949e+00</td>\n",
              "    </tr>\n",
              "    <tr>\n",
              "      <th>99%</th>\n",
              "      <td>9.200000e+01</td>\n",
              "      <td>6.500000e+01</td>\n",
              "      <td>6.710000e+00</td>\n",
              "      <td>1.500000e+01</td>\n",
              "      <td>1.700000e+01</td>\n",
              "      <td>1.500000e+01</td>\n",
              "      <td>4.174387e+00</td>\n",
              "      <td>4.521789e+00</td>\n",
              "      <td>1.903599e+00</td>\n",
              "      <td>2.708050e+00</td>\n",
              "    </tr>\n",
              "    <tr>\n",
              "      <th>max</th>\n",
              "      <td>4.700000e+02</td>\n",
              "      <td>2.571460e+05</td>\n",
              "      <td>3.900000e+01</td>\n",
              "      <td>3.070000e+02</td>\n",
              "      <td>5.080000e+02</td>\n",
              "      <td>1.240000e+02</td>\n",
              "      <td>1.245740e+01</td>\n",
              "      <td>6.152733e+00</td>\n",
              "      <td>3.663562e+00</td>\n",
              "      <td>5.726848e+00</td>\n",
              "    </tr>\n",
              "  </tbody>\n",
              "</table>\n",
              "</div>\n",
              "      <button class=\"colab-df-convert\" onclick=\"convertToInteractive('df-66874de4-52c6-4d7f-8767-5779f37286d5')\"\n",
              "              title=\"Convert this dataframe to an interactive table.\"\n",
              "              style=\"display:none;\">\n",
              "        \n",
              "  <svg xmlns=\"http://www.w3.org/2000/svg\" height=\"24px\"viewBox=\"0 0 24 24\"\n",
              "       width=\"24px\">\n",
              "    <path d=\"M0 0h24v24H0V0z\" fill=\"none\"/>\n",
              "    <path d=\"M18.56 5.44l.94 2.06.94-2.06 2.06-.94-2.06-.94-.94-2.06-.94 2.06-2.06.94zm-11 1L8.5 8.5l.94-2.06 2.06-.94-2.06-.94L8.5 2.5l-.94 2.06-2.06.94zm10 10l.94 2.06.94-2.06 2.06-.94-2.06-.94-.94-2.06-.94 2.06-2.06.94z\"/><path d=\"M17.41 7.96l-1.37-1.37c-.4-.4-.92-.59-1.43-.59-.52 0-1.04.2-1.43.59L10.3 9.45l-7.72 7.72c-.78.78-.78 2.05 0 2.83L4 21.41c.39.39.9.59 1.41.59.51 0 1.02-.2 1.41-.59l7.78-7.78 2.81-2.81c.8-.78.8-2.07 0-2.86zM5.41 20L4 18.59l7.72-7.72 1.47 1.35L5.41 20z\"/>\n",
              "  </svg>\n",
              "      </button>\n",
              "      \n",
              "  <style>\n",
              "    .colab-df-container {\n",
              "      display:flex;\n",
              "      flex-wrap:wrap;\n",
              "      gap: 12px;\n",
              "    }\n",
              "\n",
              "    .colab-df-convert {\n",
              "      background-color: #E8F0FE;\n",
              "      border: none;\n",
              "      border-radius: 50%;\n",
              "      cursor: pointer;\n",
              "      display: none;\n",
              "      fill: #1967D2;\n",
              "      height: 32px;\n",
              "      padding: 0 0 0 0;\n",
              "      width: 32px;\n",
              "    }\n",
              "\n",
              "    .colab-df-convert:hover {\n",
              "      background-color: #E2EBFA;\n",
              "      box-shadow: 0px 1px 2px rgba(60, 64, 67, 0.3), 0px 1px 3px 1px rgba(60, 64, 67, 0.15);\n",
              "      fill: #174EA6;\n",
              "    }\n",
              "\n",
              "    [theme=dark] .colab-df-convert {\n",
              "      background-color: #3B4455;\n",
              "      fill: #D2E3FC;\n",
              "    }\n",
              "\n",
              "    [theme=dark] .colab-df-convert:hover {\n",
              "      background-color: #434B5C;\n",
              "      box-shadow: 0px 1px 3px 1px rgba(0, 0, 0, 0.15);\n",
              "      filter: drop-shadow(0px 1px 2px rgba(0, 0, 0, 0.3));\n",
              "      fill: #FFFFFF;\n",
              "    }\n",
              "  </style>\n",
              "\n",
              "      <script>\n",
              "        const buttonEl =\n",
              "          document.querySelector('#df-66874de4-52c6-4d7f-8767-5779f37286d5 button.colab-df-convert');\n",
              "        buttonEl.style.display =\n",
              "          google.colab.kernel.accessAllowed ? 'block' : 'none';\n",
              "\n",
              "        async function convertToInteractive(key) {\n",
              "          const element = document.querySelector('#df-66874de4-52c6-4d7f-8767-5779f37286d5');\n",
              "          const dataTable =\n",
              "            await google.colab.kernel.invokeFunction('convertToInteractive',\n",
              "                                                     [key], {});\n",
              "          if (!dataTable) return;\n",
              "\n",
              "          const docLinkHtml = 'Like what you see? Visit the ' +\n",
              "            '<a target=\"_blank\" href=https://colab.research.google.com/notebooks/data_table.ipynb>data table notebook</a>'\n",
              "            + ' to learn more about interactive tables.';\n",
              "          element.innerHTML = '';\n",
              "          dataTable['output_type'] = 'display_data';\n",
              "          await google.colab.output.renderOutput(dataTable, element);\n",
              "          const docLink = document.createElement('div');\n",
              "          docLink.innerHTML = docLinkHtml;\n",
              "          element.appendChild(docLink);\n",
              "        }\n",
              "      </script>\n",
              "    </div>\n",
              "  </div>\n",
              "  "
            ],
            "text/plain": [
              "           numWords  numOccurrences  ...  lg_averageWordLength  lg_largestWordLength\n",
              "count  2.661159e+07    2.661159e+07  ...          2.661159e+07          2.661159e+07\n",
              "mean   2.374433e+01    5.122833e+00  ...                  -inf                  -inf\n",
              "std    1.900690e+01    2.177953e+02  ...                   NaN                   NaN\n",
              "min    0.000000e+00    1.000000e+00  ...                  -inf                  -inf\n",
              "1%     4.000000e+00    1.000000e+00  ...          1.098612e+00          1.609438e+00\n",
              "10%    7.000000e+00    1.000000e+00  ...          1.275363e+00          1.945910e+00\n",
              "25%    1.100000e+01    1.000000e+00  ...          1.363537e+00          2.079442e+00\n",
              "50%    1.900000e+01    1.000000e+00  ...          1.465568e+00          2.302585e+00\n",
              "75%    3.100000e+01    2.000000e+00  ...          1.578979e+00          2.397895e+00\n",
              "90%    4.500000e+01    5.000000e+00  ...          1.686399e+00          2.564949e+00\n",
              "99%    9.200000e+01    6.500000e+01  ...          1.903599e+00          2.708050e+00\n",
              "max    4.700000e+02    2.571460e+05  ...          3.663562e+00          5.726848e+00\n",
              "\n",
              "[12 rows x 10 columns]"
            ]
          },
          "metadata": {},
          "execution_count": 3
        }
      ],
      "source": [
        "desc = df.describe(percentiles=[0.01, 0.1, 0.25, 0.5, 0.75, 0.9, 0.99])\n",
        "desc.to_csv(path+'2017_Summary.csv')\n",
        "desc"
      ]
    },
    {
      "cell_type": "code",
      "execution_count": null,
      "metadata": {
        "colab": {
          "base_uri": "https://localhost:8080/",
          "height": 348
        },
        "outputId": "5b32798f-8419-4550-d02f-7f717595cbc2",
        "id": "q0S-OaAgw-jJ"
      },
      "outputs": [
        {
          "output_type": "stream",
          "name": "stdout",
          "text": [
            "26611588\n",
            "26479540\n"
          ]
        },
        {
          "output_type": "execute_result",
          "data": {
            "text/plain": [
              "<matplotlib.legend.Legend at 0x7f980846a050>"
            ]
          },
          "metadata": {},
          "execution_count": 4
        },
        {
          "output_type": "display_data",
          "data": {
            "image/png": "[encoded data removed]",
            "text/plain": [
              "<Figure size 432x288 with 1 Axes>"
            ]
          },
          "metadata": {
            "needs_background": "light"
          }
        }
      ],
      "source": [
        "# Remove very large values\n",
        "print(df.shape[0])\n",
        "df_no_out = df[df.largestWordLength < 20]\n",
        "df_no_out = df_no_out[df_no_out.numRepeatedWords < 20]\n",
        "print(df_no_out.shape[0])\n",
        "\n",
        "sns.histplot(data=df_no_out, x='averageWordLength', color = 'orange', alpha = 0.5, bins = 20, label='averageWordLength');\n",
        "sns.histplot(data=df_no_out, x='largestWordLength', color = 'palegreen', alpha = 0.5, bins = 20, label='largestWordLength');\n",
        "sns.histplot(data=df_no_out, x='numRepeatedWords', alpha = 0.5, bins = 20, label='numRepeatedWords');\n",
        "plt.legend()"
      ]
    },
    {
      "cell_type": "code",
      "source": [
        "# Remove very large values\n",
        "print(df.shape[0])\n",
        "df_no_out = df[df.numWords < 100]\n",
        "print(df_no_out.shape[0])\n",
        "\n",
        "sns.histplot(data=df_no_out, x='numWords', bins=100, color = 'royalblue', alpha = 0.7, label='numWords');\n",
        "plt.legend()"
      ],
      "metadata": {
        "colab": {
          "base_uri": "https://localhost:8080/",
          "height": 348
        },
        "outputId": "ab131741-7ad4-4eb4-f45d-1d3c76d927ff",
        "id": "eIataoxIw-jJ"
      },
      "execution_count": null,
      "outputs": [
        {
          "output_type": "stream",
          "name": "stdout",
          "text": [
            "26611588\n",
            "26415506\n"
          ]
        },
        {
          "output_type": "execute_result",
          "data": {
            "text/plain": [
              "<matplotlib.legend.Legend at 0x7f98084687d0>"
            ]
          },
          "metadata": {},
          "execution_count": 5
        },
        {
          "output_type": "display_data",
          "data": {
            "image/png": "[encoded data removed]",
            "text/plain": [
              "<Figure size 432x288 with 1 Axes>"
            ]
          },
          "metadata": {
            "needs_background": "light"
          }
        }
      ]
    },
    {
      "cell_type": "code",
      "execution_count": null,
      "metadata": {
        "colab": {
          "base_uri": "https://localhost:8080/",
          "height": 326
        },
        "outputId": "a914293f-c967-4486-dcef-fa6d310b650f",
        "id": "j8iJKSTFw-jK"
      },
      "outputs": [
        {
          "output_type": "stream",
          "name": "stdout",
          "text": [
            "26611588\n",
            "26610786\n"
          ]
        },
        {
          "output_type": "display_data",
          "data": {
            "image/png": "[encoded data removed]",
            "text/plain": [
              "<Figure size 432x288 with 1 Axes>"
            ]
          },
          "metadata": {
            "needs_background": "light"
          }
        }
      ],
      "source": [
        "# Remove very large values\n",
        "print(df.shape[0])\n",
        "df_no_out = df[df.numOccurrences < 10000]\n",
        "print(df_no_out.shape[0])\n",
        "\n",
        "sns.histplot(data=df_no_out, x='numOccurrences', bins=20, color = 'orange', alpha = 0.7, log_scale=(10, 10));"
      ]
    },
    {
      "cell_type": "code",
      "source": [
        "# Remove very large values\n",
        "print(df.shape[0])\n",
        "df_no_out = df[df.numOccurrences < 100]\n",
        "df_no_out = df_no_out[df_no_out.largestWordLength < 20]\n",
        "\n",
        "print(df_no_out.shape[0])\n",
        "\n",
        "plt.scatter(x=df_no_out.numOccurrences, y=df_no_out.largestWordLength, alpha=0.05)"
      ],
      "metadata": {
        "colab": {
          "base_uri": "https://localhost:8080/",
          "height": 321
        },
        "outputId": "8f918963-1398-4294-e995-ec48c6f53c1a",
        "id": "kp0QDW1Hw-jK"
      },
      "execution_count": null,
      "outputs": [
        {
          "output_type": "stream",
          "name": "stdout",
          "text": [
            "26611588\n",
            "26451087\n"
          ]
        },
        {
          "output_type": "execute_result",
          "data": {
            "text/plain": [
              "<matplotlib.collections.PathCollection at 0x7f98684760d0>"
            ]
          },
          "metadata": {},
          "execution_count": 7
        },
        {
          "output_type": "display_data",
          "data": {
            "image/png": "[encoded data removed]",
            "text/plain": [
              "<Figure size 432x288 with 1 Axes>"
            ]
          },
          "metadata": {
            "needs_background": "light"
          }
        }
      ]
    },
    {
      "cell_type": "code",
      "execution_count": null,
      "metadata": {
        "colab": {
          "base_uri": "https://localhost:8080/",
          "height": 406
        },
        "outputId": "db639ba3-efae-4935-cfab-310c69b6e58c",
        "id": "0mFT8JJmw-jK"
      },
      "outputs": [
        {
          "output_type": "execute_result",
          "data": {
            "text/plain": [
              "<matplotlib.axes._subplots.AxesSubplot at 0x7f97fb572f10>"
            ]
          },
          "metadata": {},
          "execution_count": 8
        },
        {
          "output_type": "display_data",
          "data": {
            "image/png": "[encoded data removed]",
            "text/plain": [
              "<Figure size 432x288 with 2 Axes>"
            ]
          },
          "metadata": {
            "needs_background": "light"
          }
        }
      ],
      "source": [
        "sns.heatmap(df.corr(), cmap='Blues')"
      ]
    },
    {
      "cell_type": "code",
      "execution_count": null,
      "metadata": {
        "colab": {
          "base_uri": "https://localhost:8080/",
          "height": 285
        },
        "outputId": "b71180e1-e0b0-4634-aef5-681044684ff9",
        "id": "xbTtzJeDw-jK"
      },
      "outputs": [
        {
          "output_type": "display_data",
          "data": {
            "image/png": "[encoded data removed]",
            "text/plain": [
              "<Figure size 432x288 with 1 Axes>"
            ]
          },
          "metadata": {
            "needs_background": "light"
          }
        }
      ],
      "source": [
        "sns.scatterplot(data=df, x=\"numWords\", y=\"numOccurrences\", alpha = 0.01);\n",
        "plt.savefig('Scatter_numWords')"
      ]
    },
    {
      "cell_type": "code",
      "execution_count": null,
      "metadata": {
        "colab": {
          "base_uri": "https://localhost:8080/",
          "height": 285
        },
        "outputId": "d077b955-503d-44eb-d2ef-8f012c35120c",
        "id": "6zZK-VCaw-jK"
      },
      "outputs": [
        {
          "output_type": "display_data",
          "data": {
            "image/png": "[encoded data removed]",
            "text/plain": [
              "<Figure size 432x288 with 1 Axes>"
            ]
          },
          "metadata": {
            "needs_background": "light"
          }
        }
      ],
      "source": [
        "sns.scatterplot(data=df, x=\"lgWords\", y=\"lgNumOcc\", alpha = 0.01);"
      ]
    },
    {
      "cell_type": "code",
      "execution_count": null,
      "metadata": {
        "colab": {
          "base_uri": "https://localhost:8080/",
          "height": 285
        },
        "outputId": "1ef6697c-c81d-4d42-ef67-dc86b3769edf",
        "id": "bAhP6FxXw-jK"
      },
      "outputs": [
        {
          "output_type": "display_data",
          "data": {
            "image/png": "[encoded data removed]",
            "text/plain": [
              "<Figure size 432x288 with 1 Axes>"
            ]
          },
          "metadata": {
            "needs_background": "light"
          }
        }
      ],
      "source": [
        "sns.scatterplot(data=df, x=\"averageWordLength\", y=\"numOccurrences\", alpha = 0.01, color = 'g');"
      ]
    },
    {
      "cell_type": "code",
      "execution_count": null,
      "metadata": {
        "colab": {
          "base_uri": "https://localhost:8080/",
          "height": 285
        },
        "outputId": "cc155882-f155-4fe6-c754-a3568fb7d308",
        "id": "ElOiy45Nw-jK"
      },
      "outputs": [
        {
          "output_type": "display_data",
          "data": {
            "image/png": "[encoded data removed]",
            "text/plain": [
              "<Figure size 432x288 with 1 Axes>"
            ]
          },
          "metadata": {
            "needs_background": "light"
          }
        }
      ],
      "source": [
        "sns.scatterplot(data=df, x=\"averageWordLength\", y=\"lgNumOcc\", alpha = 0.01, color = 'g');"
      ]
    },
    {
      "cell_type": "code",
      "execution_count": null,
      "metadata": {
        "colab": {
          "base_uri": "https://localhost:8080/",
          "height": 285
        },
        "outputId": "5a608d4d-167b-4116-e3ba-e6f9cad81852",
        "id": "3m0b2rSow-jK"
      },
      "outputs": [
        {
          "output_type": "display_data",
          "data": {
            "image/png": "[encoded data removed]",
            "text/plain": [
              "<Figure size 432x288 with 1 Axes>"
            ]
          },
          "metadata": {
            "needs_background": "light"
          }
        }
      ],
      "source": [
        "sns.scatterplot(data=df, x=\"numOfPunctuation\", y=\"lgNumOcc\", alpha = 0.01, color = 'r', s=3);"
      ]
    },
    {
      "cell_type": "markdown",
      "source": [
        "# Google Trends Data"
      ],
      "metadata": {
        "id": "FOj5tTO3rF5U"
      }
    },
    {
      "cell_type": "code",
      "source": [
        ""
      ],
      "metadata": {
        "id": "hAB8YCWFrHeB"
      },
      "execution_count": null,
      "outputs": []
    },
    {
      "cell_type": "code",
      "execution_count": null,
      "metadata": {
        "colab": {
          "base_uri": "https://localhost:8080/"
        },
        "id": "Ili9I_lbD2NT",
        "outputId": "28090c34-1607-44eb-b0fa-a417680e86c7"
      },
      "outputs": [
        {
          "output_type": "stream",
          "name": "stdout",
          "text": [
            "Requirement already satisfied: pytrends in /usr/local/lib/python3.7/dist-packages (4.7.3)\n",
            "Requirement already satisfied: requests in /usr/local/lib/python3.7/dist-packages (from pytrends) (2.23.0)\n",
            "Requirement already satisfied: lxml in /usr/local/lib/python3.7/dist-packages (from pytrends) (4.2.6)\n",
            "Requirement already satisfied: pandas>=0.25 in /usr/local/lib/python3.7/dist-packages (from pytrends) (1.1.5)\n",
            "Requirement already satisfied: numpy>=1.15.4 in /usr/local/lib/python3.7/dist-packages (from pandas>=0.25->pytrends) (1.19.5)\n",
            "Requirement already satisfied: pytz>=2017.2 in /usr/local/lib/python3.7/dist-packages (from pandas>=0.25->pytrends) (2018.9)\n",
            "Requirement already satisfied: python-dateutil>=2.7.3 in /usr/local/lib/python3.7/dist-packages (from pandas>=0.25->pytrends) (2.8.2)\n",
            "Requirement already satisfied: six>=1.5 in /usr/local/lib/python3.7/dist-packages (from python-dateutil>=2.7.3->pandas>=0.25->pytrends) (1.15.0)\n",
            "Requirement already satisfied: certifi>=2017.4.17 in /usr/local/lib/python3.7/dist-packages (from requests->pytrends) (2021.10.8)\n",
            "Requirement already satisfied: chardet<4,>=3.0.2 in /usr/local/lib/python3.7/dist-packages (from requests->pytrends) (3.0.4)\n",
            "Requirement already satisfied: idna<3,>=2.5 in /usr/local/lib/python3.7/dist-packages (from requests->pytrends) (2.10)\n",
            "Requirement already satisfied: urllib3!=1.25.0,!=1.25.1,<1.26,>=1.21.1 in /usr/local/lib/python3.7/dist-packages (from requests->pytrends) (1.24.3)\n",
            "Drive already mounted at /content/drive; to attempt to forcibly remount, call drive.mount(\"/content/drive\", force_remount=True).\n"
          ]
        }
      ],
      "source": [
        "!pip install pytrends\n",
        "from pytrends.request import TrendReq\n",
        "from pytrends import dailydata\n",
        "import numpy as np\n",
        "import pandas as pd\n",
        "import time\n",
        "import pickle\n",
        "\n",
        "import seaborn as sns\n",
        "from google.colab import drive\n",
        "drive.mount('/content/drive')\n",
        "% matplotlib inline"
      ]
    },
    {
      "cell_type": "code",
      "execution_count": null,
      "metadata": {
        "id": "kUk9d6-D2W2E"
      },
      "outputs": [],
      "source": [
        "prx = ['https://35.201.123.31:880', 'https://34.203.233.13:80']\n",
        "prx = ['35.199.25.215:3128']\n",
        "pytrends = TrendReq(hl='en-US', tz=360, retries = 3, backoff_factor = 20,)\n",
        "params = {'cat':0, 'geo':'', 'gprop':''}\n",
        "path = '/content/drive/MyDrive/Quotebank/'"
      ]
    },
    {
      "cell_type": "markdown",
      "source": [
        "### Good chart"
      ],
      "metadata": {
        "id": "XYxgTYjsgwgP"
      }
    },
    {
      "cell_type": "code",
      "source": [
        "pytrends.build_payload(['Donald Trump'], timeframe='2012-01-01 2020-12-01', **params)\n",
        "ans = pytrends.interest_over_time()\n",
        "ans.iloc[:,0].plot()"
      ],
      "metadata": {
        "colab": {
          "base_uri": "https://localhost:8080/",
          "height": 297
        },
        "id": "s3Z1pnUygqwM",
        "outputId": "46ae4dcf-a521-414d-d6ec-97218a75efe7"
      },
      "execution_count": null,
      "outputs": [
        {
          "output_type": "execute_result",
          "data": {
            "text/plain": [
              "<matplotlib.axes._subplots.AxesSubplot at 0x7ff9b7dd4110>"
            ]
          },
          "metadata": {},
          "execution_count": 5
        },
        {
          "output_type": "display_data",
          "data": {
            "image/png": "[encoded data removed]",
            "text/plain": [
              "<Figure size 432x288 with 1 Axes>"
            ]
          },
          "metadata": {
            "needs_background": "light"
          }
        }
      ]
    },
    {
      "cell_type": "markdown",
      "source": [
        "### Speaker popularity"
      ],
      "metadata": {
        "id": "e3PGiRS5gzcp"
      }
    },
    {
      "cell_type": "code",
      "execution_count": null,
      "metadata": {
        "colab": {
          "base_uri": "https://localhost:8080/",
          "height": 415
        },
        "id": "Idaqmeu421iX",
        "outputId": "360c13a4-17d9-42f5-92ca-f99989b7c78b"
      },
      "outputs": [
        {
          "output_type": "execute_result",
          "data": {
            "text/html": [
              "<div>\n",
              "<style scoped>\n",
              "    .dataframe tbody tr th:only-of-type {\n",
              "        vertical-align: middle;\n",
              "    }\n",
              "\n",
              "    .dataframe tbody tr th {\n",
              "        vertical-align: top;\n",
              "    }\n",
              "\n",
              "    .dataframe thead th {\n",
              "        text-align: right;\n",
              "    }\n",
              "</style>\n",
              "<table border=\"1\" class=\"dataframe\">\n",
              "  <thead>\n",
              "    <tr style=\"text-align: right;\">\n",
              "      <th></th>\n",
              "      <th>speaker</th>\n",
              "      <th>date</th>\n",
              "    </tr>\n",
              "  </thead>\n",
              "  <tbody>\n",
              "    <tr>\n",
              "      <th>0</th>\n",
              "      <td>President Donald Trump</td>\n",
              "      <td>2017-08-25 10:00:00</td>\n",
              "    </tr>\n",
              "    <tr>\n",
              "      <th>1</th>\n",
              "      <td>Doug Jones</td>\n",
              "      <td>2017-12-12 00:00:00</td>\n",
              "    </tr>\n",
              "    <tr>\n",
              "      <th>2</th>\n",
              "      <td>Radek Sikorski</td>\n",
              "      <td>2017-03-22 00:00:00</td>\n",
              "    </tr>\n",
              "    <tr>\n",
              "      <th>3</th>\n",
              "      <td>Chuck Schumer</td>\n",
              "      <td>2017-11-01 00:00:00</td>\n",
              "    </tr>\n",
              "    <tr>\n",
              "      <th>4</th>\n",
              "      <td>David Caballero</td>\n",
              "      <td>2017-03-20 21:03:21</td>\n",
              "    </tr>\n",
              "    <tr>\n",
              "      <th>...</th>\n",
              "      <td>...</td>\n",
              "      <td>...</td>\n",
              "    </tr>\n",
              "    <tr>\n",
              "      <th>711</th>\n",
              "      <td>David Mueller</td>\n",
              "      <td>2017-08-09 00:00:00</td>\n",
              "    </tr>\n",
              "    <tr>\n",
              "      <th>712</th>\n",
              "      <td>Benjamin Netanyahu</td>\n",
              "      <td>2017-12-07 00:00:00</td>\n",
              "    </tr>\n",
              "    <tr>\n",
              "      <th>713</th>\n",
              "      <td>Hassan Ali</td>\n",
              "      <td>2017-10-14 00:00:00</td>\n",
              "    </tr>\n",
              "    <tr>\n",
              "      <th>714</th>\n",
              "      <td>President Donald Trump</td>\n",
              "      <td>2017-09-23 00:00:00</td>\n",
              "    </tr>\n",
              "    <tr>\n",
              "      <th>715</th>\n",
              "      <td>President Donald Trump</td>\n",
              "      <td>2017-11-01 00:00:00</td>\n",
              "    </tr>\n",
              "  </tbody>\n",
              "</table>\n",
              "<p>716 rows × 2 columns</p>\n",
              "</div>"
            ],
            "text/plain": [
              "                    speaker                date\n",
              "0    President Donald Trump 2017-08-25 10:00:00\n",
              "1                Doug Jones 2017-12-12 00:00:00\n",
              "2            Radek Sikorski 2017-03-22 00:00:00\n",
              "3             Chuck Schumer 2017-11-01 00:00:00\n",
              "4           David Caballero 2017-03-20 21:03:21\n",
              "..                      ...                 ...\n",
              "711           David Mueller 2017-08-09 00:00:00\n",
              "712      Benjamin Netanyahu 2017-12-07 00:00:00\n",
              "713              Hassan Ali 2017-10-14 00:00:00\n",
              "714  President Donald Trump 2017-09-23 00:00:00\n",
              "715  President Donald Trump 2017-11-01 00:00:00\n",
              "\n",
              "[716 rows x 2 columns]"
            ]
          },
          "metadata": {},
          "execution_count": 15
        }
      ],
      "source": [
        "df = pd.read_csv(path+'Speakers.csv', dtype={'speaker':'object'}, parse_dates = ['date'])\n",
        "df"
      ]
    },
    {
      "cell_type": "code",
      "execution_count": null,
      "metadata": {
        "colab": {
          "base_uri": "https://localhost:8080/"
        },
        "id": "lC4uPlioDQXD",
        "outputId": "26d8414e-1cd9-4cf4-b295-72df59aec0cd"
      },
      "outputs": [
        {
          "output_type": "stream",
          "name": "stdout",
          "text": [
            "294\n",
            "4\n"
          ]
        }
      ],
      "source": [
        "names = set(df.speaker)\n",
        "print(len(names))\n",
        "\n",
        "skip = ['Jonathan Björklund', 'Meghan , Duchess of Sussex', 'Rodrigo Soberanes', 'Joel N. Myers']\n",
        "\n",
        "n_files=6\n",
        "for i in range(n_files):\n",
        "  with open(path+f'GT_dump{i}.pickle', 'rb') as handle:\n",
        "    read = pickle.load(handle)\n",
        "    for n in read:\n",
        "      names.remove(n[0])\n",
        "\n",
        "names_backup = names.copy()\n",
        "print(len(names))"
      ]
    },
    {
      "cell_type": "code",
      "execution_count": null,
      "metadata": {
        "colab": {
          "base_uri": "https://localhost:8080/"
        },
        "id": "vPHxcokW2aNb",
        "outputId": "8cf6d0e1-960e-4d78-9395-e46ddde51616"
      },
      "outputs": [
        {
          "output_type": "stream",
          "name": "stdout",
          "text": [
            "Done\n"
          ]
        }
      ],
      "source": [
        "ans = []\n",
        "for s in names:\n",
        "  if s in skip:\n",
        "    continue\n",
        "  try:\n",
        "    pytrends.build_payload([s], timeframe='2012-01-01 2017-12-01', **params)\n",
        "    ans.append((s, pytrends.interest_over_time().iloc[:,0].values))\n",
        "    time.sleep(10)\n",
        "  except Exception as ex:\n",
        "    with open(path+f'GT_dump{n_files}.pickle', 'wb') as handle:\n",
        "      pickle.dump(ans, handle, protocol=pickle.HIGHEST_PROTOCOL)\n",
        "      print('Error', ex, 'on', s)\n",
        "      break\n",
        "  with open(path+f'GT_dump{n_files}.pickle', 'wb') as handle:\n",
        "      pickle.dump(ans, handle, protocol=pickle.HIGHEST_PROTOCOL)\n",
        "\n",
        "print('Done')"
      ]
    },
    {
      "cell_type": "markdown",
      "source": [
        "# Models"
      ],
      "metadata": {
        "id": "yjBjxSEerc_8"
      }
    },
    {
      "cell_type": "code",
      "execution_count": null,
      "metadata": {
        "colab": {
          "base_uri": "https://localhost:8080/"
        },
        "outputId": "20e9da02-1254-4f84-cd0b-67e6d03bb897",
        "id": "QaaNP_kKrXf9"
      },
      "outputs": [
        {
          "output_type": "stream",
          "name": "stdout",
          "text": [
            "Drive already mounted at /content/drive; to attempt to forcibly remount, call drive.mount(\"/content/drive\", force_remount=True).\n"
          ]
        }
      ],
      "source": [
        "import numpy as np\n",
        "import bz2\n",
        "import json\n",
        "import pandas as pd\n",
        "import time\n",
        "import zipfile\n",
        "import statsmodels.api as sm\n",
        "import statsmodels.formula.api as smf\n",
        "from sklearn.preprocessing import PolynomialFeatures\n",
        "from sklearn.metrics import mean_squared_error as mse\n",
        "import xgboost as xgb\n",
        "import pickle\n",
        "\n",
        "import seaborn as sns\n",
        "from google.colab import drive\n",
        "drive.mount('/content/drive')"
      ]
    },
    {
      "cell_type": "code",
      "source": [
        "path = '/content/drive/MyDrive/Quotebank/'\n",
        "NS = 500000\n",
        "toskip = [NS*i+i for i in range(1,1000)]\n",
        "df_all = pd.read_csv(path+'quotes-2017.csv', sep = ';', skiprows = toskip, index_col=0, parse_dates=['date'], infer_datetime_format=True, #nrows = 3*10**6,\n",
        "                 dtype={'numWords':np.int64, 'numOccurrences':np.int64, 'averageWordLength':np.float64, 'largestWordLength':np.int32, \n",
        "                        'numOfPunctuation':np.int32, 'numRepeatedWords':np.int32, 'numNumbers':np.int32})\n",
        "\n",
        "for c in ['numWords','averageWordLength','largestWordLength','numOfPunctuation','numRepeatedWords']:\n",
        "  high = df_all[c].quantile(0.99)\n",
        "  df_all = df_all[df_all[c] <= high]\n",
        "\n",
        "for c in ['numWords']:\n",
        "  low = df_all[c].quantile(0.01) \n",
        "  df_all = df_all[df_all[c] >= high]\n",
        "\n",
        "# Keep only those with citations\n",
        "df_all = df_all[df_all['numOccurrences'] > 1]\n",
        "df_all = df_all.reset_index(drop=True)\n",
        "df_all"
      ],
      "metadata": {
        "colab": {
          "base_uri": "https://localhost:8080/",
          "height": 470
        },
        "id": "VAPQu7UytoBG",
        "outputId": "9ddb215d-dfa1-4c5b-f8ed-868e608a9ec2"
      },
      "execution_count": null,
      "outputs": [
        {
          "output_type": "stream",
          "name": "stderr",
          "text": [
            "/usr/local/lib/python3.7/dist-packages/numpy/lib/arraysetops.py:580: FutureWarning: elementwise comparison failed; returning scalar instead, but in the future will perform elementwise comparison\n",
            "  mask |= (ar1 == a)\n"
          ]
        },
        {
          "output_type": "execute_result",
          "data": {
            "text/html": [
              "<div>\n",
              "<style scoped>\n",
              "    .dataframe tbody tr th:only-of-type {\n",
              "        vertical-align: middle;\n",
              "    }\n",
              "\n",
              "    .dataframe tbody tr th {\n",
              "        vertical-align: top;\n",
              "    }\n",
              "\n",
              "    .dataframe thead th {\n",
              "        text-align: right;\n",
              "    }\n",
              "</style>\n",
              "<table border=\"1\" class=\"dataframe\">\n",
              "  <thead>\n",
              "    <tr style=\"text-align: right;\">\n",
              "      <th></th>\n",
              "      <th>numWords</th>\n",
              "      <th>speaker</th>\n",
              "      <th>numOccurrences</th>\n",
              "      <th>averageWordLength</th>\n",
              "      <th>largestWordLength</th>\n",
              "      <th>numOfPunctuation</th>\n",
              "      <th>numRepeatedWords</th>\n",
              "      <th>numNumbers</th>\n",
              "      <th>date</th>\n",
              "    </tr>\n",
              "  </thead>\n",
              "  <tbody>\n",
              "    <tr>\n",
              "      <th>0</th>\n",
              "      <td>37</td>\n",
              "      <td>Olivia Newton-John</td>\n",
              "      <td>14</td>\n",
              "      <td>4.16</td>\n",
              "      <td>10</td>\n",
              "      <td>10</td>\n",
              "      <td>6</td>\n",
              "      <td>0</td>\n",
              "      <td>2017-09-12 00:00:00</td>\n",
              "    </tr>\n",
              "    <tr>\n",
              "      <th>1</th>\n",
              "      <td>36</td>\n",
              "      <td>Radha Stirling</td>\n",
              "      <td>2</td>\n",
              "      <td>4.78</td>\n",
              "      <td>10</td>\n",
              "      <td>3</td>\n",
              "      <td>3</td>\n",
              "      <td>0</td>\n",
              "      <td>2017-10-24 23:57:43</td>\n",
              "    </tr>\n",
              "    <tr>\n",
              "      <th>2</th>\n",
              "      <td>16</td>\n",
              "      <td>Viral Acharya</td>\n",
              "      <td>2</td>\n",
              "      <td>4.81</td>\n",
              "      <td>13</td>\n",
              "      <td>4</td>\n",
              "      <td>1</td>\n",
              "      <td>0</td>\n",
              "      <td>2017-06-08 09:51:00</td>\n",
              "    </tr>\n",
              "    <tr>\n",
              "      <th>3</th>\n",
              "      <td>29</td>\n",
              "      <td>Jimmy Walker</td>\n",
              "      <td>36</td>\n",
              "      <td>3.48</td>\n",
              "      <td>8</td>\n",
              "      <td>6</td>\n",
              "      <td>3</td>\n",
              "      <td>0</td>\n",
              "      <td>2017-04-04 00:05:38</td>\n",
              "    </tr>\n",
              "    <tr>\n",
              "      <th>4</th>\n",
              "      <td>19</td>\n",
              "      <td>Spencer Pratt</td>\n",
              "      <td>2</td>\n",
              "      <td>4.26</td>\n",
              "      <td>9</td>\n",
              "      <td>4</td>\n",
              "      <td>2</td>\n",
              "      <td>0</td>\n",
              "      <td>2017-04-13 21:24:38</td>\n",
              "    </tr>\n",
              "    <tr>\n",
              "      <th>...</th>\n",
              "      <td>...</td>\n",
              "      <td>...</td>\n",
              "      <td>...</td>\n",
              "      <td>...</td>\n",
              "      <td>...</td>\n",
              "      <td>...</td>\n",
              "      <td>...</td>\n",
              "      <td>...</td>\n",
              "      <td>...</td>\n",
              "    </tr>\n",
              "    <tr>\n",
              "      <th>7210598</th>\n",
              "      <td>47</td>\n",
              "      <td>Angus Taylor</td>\n",
              "      <td>5</td>\n",
              "      <td>4.04</td>\n",
              "      <td>10</td>\n",
              "      <td>8</td>\n",
              "      <td>4</td>\n",
              "      <td>1</td>\n",
              "      <td>2017-08-29 08:00:00</td>\n",
              "    </tr>\n",
              "    <tr>\n",
              "      <th>7210599</th>\n",
              "      <td>46</td>\n",
              "      <td>None</td>\n",
              "      <td>102</td>\n",
              "      <td>4.30</td>\n",
              "      <td>8</td>\n",
              "      <td>11</td>\n",
              "      <td>6</td>\n",
              "      <td>0</td>\n",
              "      <td>2017-05-08 07:25:48</td>\n",
              "    </tr>\n",
              "    <tr>\n",
              "      <th>7210600</th>\n",
              "      <td>26</td>\n",
              "      <td>Greg Olsen</td>\n",
              "      <td>2</td>\n",
              "      <td>4.19</td>\n",
              "      <td>8</td>\n",
              "      <td>4</td>\n",
              "      <td>2</td>\n",
              "      <td>0</td>\n",
              "      <td>2017-12-29 15:40:18</td>\n",
              "    </tr>\n",
              "    <tr>\n",
              "      <th>7210601</th>\n",
              "      <td>37</td>\n",
              "      <td>Ian Rankin</td>\n",
              "      <td>2</td>\n",
              "      <td>4.24</td>\n",
              "      <td>13</td>\n",
              "      <td>7</td>\n",
              "      <td>6</td>\n",
              "      <td>0</td>\n",
              "      <td>2017-07-12 08:45:21</td>\n",
              "    </tr>\n",
              "    <tr>\n",
              "      <th>7210602</th>\n",
              "      <td>27</td>\n",
              "      <td>Tim Brown</td>\n",
              "      <td>3</td>\n",
              "      <td>4.04</td>\n",
              "      <td>9</td>\n",
              "      <td>6</td>\n",
              "      <td>2</td>\n",
              "      <td>0</td>\n",
              "      <td>2017-11-04 16:00:00</td>\n",
              "    </tr>\n",
              "  </tbody>\n",
              "</table>\n",
              "<p>7210603 rows × 9 columns</p>\n",
              "</div>"
            ],
            "text/plain": [
              "         numWords             speaker  ...  numNumbers                date\n",
              "0              37  Olivia Newton-John  ...           0 2017-09-12 00:00:00\n",
              "1              36      Radha Stirling  ...           0 2017-10-24 23:57:43\n",
              "2              16       Viral Acharya  ...           0 2017-06-08 09:51:00\n",
              "3              29        Jimmy Walker  ...           0 2017-04-04 00:05:38\n",
              "4              19       Spencer Pratt  ...           0 2017-04-13 21:24:38\n",
              "...           ...                 ...  ...         ...                 ...\n",
              "7210598        47        Angus Taylor  ...           1 2017-08-29 08:00:00\n",
              "7210599        46                None  ...           0 2017-05-08 07:25:48\n",
              "7210600        26          Greg Olsen  ...           0 2017-12-29 15:40:18\n",
              "7210601        37          Ian Rankin  ...           0 2017-07-12 08:45:21\n",
              "7210602        27           Tim Brown  ...           0 2017-11-04 16:00:00\n",
              "\n",
              "[7210603 rows x 9 columns]"
            ]
          },
          "metadata": {},
          "execution_count": 2
        }
      ]
    },
    {
      "cell_type": "code",
      "source": [
        "df_all.describe(percentiles=[0.1, 0.25, 0.5, 0.75, 0.9, 0.99])"
      ],
      "metadata": {
        "colab": {
          "base_uri": "https://localhost:8080/",
          "height": 387
        },
        "id": "wS0nPdssjG5-",
        "outputId": "60c15489-29cd-4f23-a2e5-3180bd8aafc3"
      },
      "execution_count": null,
      "outputs": [
        {
          "output_type": "execute_result",
          "data": {
            "text/html": [
              "<div>\n",
              "<style scoped>\n",
              "    .dataframe tbody tr th:only-of-type {\n",
              "        vertical-align: middle;\n",
              "    }\n",
              "\n",
              "    .dataframe tbody tr th {\n",
              "        vertical-align: top;\n",
              "    }\n",
              "\n",
              "    .dataframe thead th {\n",
              "        text-align: right;\n",
              "    }\n",
              "</style>\n",
              "<table border=\"1\" class=\"dataframe\">\n",
              "  <thead>\n",
              "    <tr style=\"text-align: right;\">\n",
              "      <th></th>\n",
              "      <th>numWords</th>\n",
              "      <th>numOccurrences</th>\n",
              "      <th>averageWordLength</th>\n",
              "      <th>largestWordLength</th>\n",
              "      <th>numOfPunctuation</th>\n",
              "      <th>numRepeatedWords</th>\n",
              "      <th>numNumbers</th>\n",
              "    </tr>\n",
              "  </thead>\n",
              "  <tbody>\n",
              "    <tr>\n",
              "      <th>count</th>\n",
              "      <td>7.210603e+06</td>\n",
              "      <td>7.210603e+06</td>\n",
              "      <td>7.210603e+06</td>\n",
              "      <td>7.210603e+06</td>\n",
              "      <td>7.210603e+06</td>\n",
              "      <td>7.210603e+06</td>\n",
              "      <td>7.210603e+06</td>\n",
              "    </tr>\n",
              "    <tr>\n",
              "      <th>mean</th>\n",
              "      <td>2.650800e+01</td>\n",
              "      <td>1.058847e+01</td>\n",
              "      <td>4.395769e+00</td>\n",
              "      <td>9.941492e+00</td>\n",
              "      <td>4.023358e+00</td>\n",
              "      <td>2.669459e+00</td>\n",
              "      <td>1.307617e-01</td>\n",
              "    </tr>\n",
              "    <tr>\n",
              "      <th>std</th>\n",
              "      <td>1.274729e+01</td>\n",
              "      <td>3.505106e+02</td>\n",
              "      <td>6.454244e-01</td>\n",
              "      <td>2.034426e+00</td>\n",
              "      <td>2.747193e+00</td>\n",
              "      <td>2.512389e+00</td>\n",
              "      <td>4.877396e-01</td>\n",
              "    </tr>\n",
              "    <tr>\n",
              "      <th>min</th>\n",
              "      <td>1.200000e+01</td>\n",
              "      <td>2.000000e+00</td>\n",
              "      <td>1.000000e+00</td>\n",
              "      <td>1.000000e+00</td>\n",
              "      <td>0.000000e+00</td>\n",
              "      <td>0.000000e+00</td>\n",
              "      <td>0.000000e+00</td>\n",
              "    </tr>\n",
              "    <tr>\n",
              "      <th>10%</th>\n",
              "      <td>1.400000e+01</td>\n",
              "      <td>2.000000e+00</td>\n",
              "      <td>3.620000e+00</td>\n",
              "      <td>7.000000e+00</td>\n",
              "      <td>1.000000e+00</td>\n",
              "      <td>0.000000e+00</td>\n",
              "      <td>0.000000e+00</td>\n",
              "    </tr>\n",
              "    <tr>\n",
              "      <th>25%</th>\n",
              "      <td>1.700000e+01</td>\n",
              "      <td>2.000000e+00</td>\n",
              "      <td>3.930000e+00</td>\n",
              "      <td>9.000000e+00</td>\n",
              "      <td>2.000000e+00</td>\n",
              "      <td>1.000000e+00</td>\n",
              "      <td>0.000000e+00</td>\n",
              "    </tr>\n",
              "    <tr>\n",
              "      <th>50%</th>\n",
              "      <td>2.300000e+01</td>\n",
              "      <td>3.000000e+00</td>\n",
              "      <td>4.330000e+00</td>\n",
              "      <td>1.000000e+01</td>\n",
              "      <td>3.000000e+00</td>\n",
              "      <td>2.000000e+00</td>\n",
              "      <td>0.000000e+00</td>\n",
              "    </tr>\n",
              "    <tr>\n",
              "      <th>75%</th>\n",
              "      <td>3.300000e+01</td>\n",
              "      <td>5.000000e+00</td>\n",
              "      <td>4.800000e+00</td>\n",
              "      <td>1.100000e+01</td>\n",
              "      <td>5.000000e+00</td>\n",
              "      <td>4.000000e+00</td>\n",
              "      <td>0.000000e+00</td>\n",
              "    </tr>\n",
              "    <tr>\n",
              "      <th>90%</th>\n",
              "      <td>4.400000e+01</td>\n",
              "      <td>1.400000e+01</td>\n",
              "      <td>5.280000e+00</td>\n",
              "      <td>1.300000e+01</td>\n",
              "      <td>8.000000e+00</td>\n",
              "      <td>6.000000e+00</td>\n",
              "      <td>0.000000e+00</td>\n",
              "    </tr>\n",
              "    <tr>\n",
              "      <th>99%</th>\n",
              "      <td>6.800000e+01</td>\n",
              "      <td>1.110000e+02</td>\n",
              "      <td>6.120000e+00</td>\n",
              "      <td>1.500000e+01</td>\n",
              "      <td>1.300000e+01</td>\n",
              "      <td>1.100000e+01</td>\n",
              "      <td>2.000000e+00</td>\n",
              "    </tr>\n",
              "    <tr>\n",
              "      <th>max</th>\n",
              "      <td>9.200000e+01</td>\n",
              "      <td>2.379940e+05</td>\n",
              "      <td>6.710000e+00</td>\n",
              "      <td>1.500000e+01</td>\n",
              "      <td>1.500000e+01</td>\n",
              "      <td>1.200000e+01</td>\n",
              "      <td>3.100000e+01</td>\n",
              "    </tr>\n",
              "  </tbody>\n",
              "</table>\n",
              "</div>"
            ],
            "text/plain": [
              "           numWords  numOccurrences  ...  numRepeatedWords    numNumbers\n",
              "count  7.210603e+06    7.210603e+06  ...      7.210603e+06  7.210603e+06\n",
              "mean   2.650800e+01    1.058847e+01  ...      2.669459e+00  1.307617e-01\n",
              "std    1.274729e+01    3.505106e+02  ...      2.512389e+00  4.877396e-01\n",
              "min    1.200000e+01    2.000000e+00  ...      0.000000e+00  0.000000e+00\n",
              "10%    1.400000e+01    2.000000e+00  ...      0.000000e+00  0.000000e+00\n",
              "25%    1.700000e+01    2.000000e+00  ...      1.000000e+00  0.000000e+00\n",
              "50%    2.300000e+01    3.000000e+00  ...      2.000000e+00  0.000000e+00\n",
              "75%    3.300000e+01    5.000000e+00  ...      4.000000e+00  0.000000e+00\n",
              "90%    4.400000e+01    1.400000e+01  ...      6.000000e+00  0.000000e+00\n",
              "99%    6.800000e+01    1.110000e+02  ...      1.100000e+01  2.000000e+00\n",
              "max    9.200000e+01    2.379940e+05  ...      1.200000e+01  3.100000e+01\n",
              "\n",
              "[11 rows x 7 columns]"
            ]
          },
          "metadata": {},
          "execution_count": 3
        }
      ]
    },
    {
      "cell_type": "code",
      "source": [
        "sns.histplot(x=df_all.numOccurrences, bins=25, log_scale=True);"
      ],
      "metadata": {
        "colab": {
          "base_uri": "https://localhost:8080/",
          "height": 294
        },
        "id": "ltmC8dUhjZDz",
        "outputId": "2573c53e-7e23-42c9-d6cb-80e4dcc91314"
      },
      "execution_count": null,
      "outputs": [
        {
          "output_type": "display_data",
          "data": {
            "image/png": "[encoded data removed]",
            "text/plain": [
              "<Figure size 432x288 with 1 Axes>"
            ]
          },
          "metadata": {
            "needs_background": "light"
          }
        }
      ]
    },
    {
      "cell_type": "markdown",
      "source": [
        "## First analysis\n",
        "\n",
        "We do analysis on full data, but we do not have any useful results. Likely this is due to the fact that vast majority of quotes are not quoted, only 10% of sample has more than 14 quotes, and overall the data is very skewed (mean = 10 vs median = 3, also not the histogram).\n",
        "\n",
        "Data properties and results indicate that log of occurences should be analyzed, which we will do."
      ],
      "metadata": {
        "id": "l1U31y_Qkowh"
      }
    },
    {
      "cell_type": "code",
      "source": [
        "# Regress numOccurrences on all the numerical features\n",
        "m = smf.ols('''numOccurrences ~ numWords\n",
        "                + averageWordLength + largestWordLength + numOfPunctuation + numRepeatedWords + numNumbers''', \n",
        "            data=df_all).fit()\n",
        "print('MSE:', mse(df_all.numOccurrences, m.predict(df_all)))\n",
        "print(m.summary())"
      ],
      "metadata": {
        "colab": {
          "base_uri": "https://localhost:8080/"
        },
        "id": "SeeBSeH3koV3",
        "outputId": "581d00d1-7941-4da5-80c8-a146410eb9e6"
      },
      "execution_count": null,
      "outputs": [
        {
          "output_type": "stream",
          "name": "stdout",
          "text": [
            "MSE: 122852.2374549396\n",
            "                            OLS Regression Results                            \n",
            "==============================================================================\n",
            "Dep. Variable:         numOccurrences   R-squared:                       0.000\n",
            "Model:                            OLS   Adj. R-squared:                  0.000\n",
            "Method:                 Least Squares   F-statistic:                     53.21\n",
            "Date:                Wed, 15 Dec 2021   Prob (F-statistic):           6.05e-66\n",
            "Time:                        11:56:02   Log-Likelihood:            -5.2481e+07\n",
            "No. Observations:             7210603   AIC:                         1.050e+08\n",
            "Df Residuals:                 7210596   BIC:                         1.050e+08\n",
            "Df Model:                           6                                         \n",
            "Covariance Type:            nonrobust                                         \n",
            "=====================================================================================\n",
            "                        coef    std err          t      P>|t|      [0.025      0.975]\n",
            "-------------------------------------------------------------------------------------\n",
            "Intercept             9.6827      0.951     10.180      0.000       7.819      11.547\n",
            "numWords             -0.1837      0.021     -8.841      0.000      -0.224      -0.143\n",
            "averageWordLength     0.6820      0.272      2.511      0.012       0.150       1.214\n",
            "largestWordLength     0.2164      0.088      2.447      0.014       0.043       0.390\n",
            "numOfPunctuation      0.2762      0.060      4.591      0.000       0.158       0.394\n",
            "numRepeatedWords     -0.1424      0.096     -1.479      0.139      -0.331       0.046\n",
            "numNumbers           -0.8109      0.272     -2.982      0.003      -1.344      -0.278\n",
            "================================================================================\n",
            "Omnibus:                 40072213.163   Durbin-Watson:                     2.000\n",
            "Prob(Omnibus):                  0.000   Jarque-Bera (JB):   4900671969642137.000\n",
            "Skew:                         316.752   Prob(JB):                           0.00\n",
            "Kurtosis:                  127718.116   Cond. No.                           235.\n",
            "================================================================================\n",
            "\n",
            "Warnings:\n",
            "[1] Standard Errors assume that the covariance matrix of the errors is correctly specified.\n"
          ]
        }
      ]
    },
    {
      "cell_type": "code",
      "source": [
        "# Regress numOccurrences on all the numerical features\n",
        "m = smf.ols('''np.log(numOccurrences) ~ numWords + averageWordLength\n",
        "             + largestWordLength + numOfPunctuation + numRepeatedWords + numNumbers''', \n",
        "            data=df_all).fit()\n",
        "print('MSE:', mse(np.log(df_all.numOccurrences), m.predict(df_all)))\n",
        "print(m.summary())"
      ],
      "metadata": {
        "colab": {
          "base_uri": "https://localhost:8080/"
        },
        "id": "fGzpPcQJlIej",
        "outputId": "c39f8440-d947-4ff8-b9ae-a6ea87e4224f"
      },
      "execution_count": null,
      "outputs": [
        {
          "output_type": "stream",
          "name": "stdout",
          "text": [
            "MSE: 0.860248021547509\n",
            "                              OLS Regression Results                              \n",
            "==================================================================================\n",
            "Dep. Variable:     np.log(numOccurrences)   R-squared:                       0.006\n",
            "Model:                                OLS   Adj. R-squared:                  0.006\n",
            "Method:                     Least Squares   F-statistic:                     6906.\n",
            "Date:                    Wed, 15 Dec 2021   Prob (F-statistic):               0.00\n",
            "Time:                            11:56:10   Log-Likelihood:            -9.6887e+06\n",
            "No. Observations:                 7210603   AIC:                         1.938e+07\n",
            "Df Residuals:                     7210596   BIC:                         1.938e+07\n",
            "Df Model:                               6                                         \n",
            "Covariance Type:                nonrobust                                         \n",
            "=====================================================================================\n",
            "                        coef    std err          t      P>|t|      [0.025      0.975]\n",
            "-------------------------------------------------------------------------------------\n",
            "Intercept             1.4698      0.003    584.013      0.000       1.465       1.475\n",
            "numWords             -0.0075    5.5e-05   -135.765      0.000      -0.008      -0.007\n",
            "averageWordLength     0.0023      0.001      3.148      0.002       0.001       0.004\n",
            "largestWordLength     0.0049      0.000     20.964      0.000       0.004       0.005\n",
            "numOfPunctuation      0.0084      0.000     52.581      0.000       0.008       0.009\n",
            "numRepeatedWords      0.0076      0.000     29.885      0.000       0.007       0.008\n",
            "numNumbers           -0.0370      0.001    -51.369      0.000      -0.038      -0.036\n",
            "==============================================================================\n",
            "Omnibus:                  2688520.846   Durbin-Watson:                   1.998\n",
            "Prob(Omnibus):                  0.000   Jarque-Bera (JB):          9633781.149\n",
            "Skew:                           1.900   Prob(JB):                         0.00\n",
            "Kurtosis:                       7.198   Cond. No.                         235.\n",
            "==============================================================================\n",
            "\n",
            "Warnings:\n",
            "[1] Standard Errors assume that the covariance matrix of the errors is correctly specified.\n"
          ]
        }
      ]
    },
    {
      "cell_type": "markdown",
      "source": [
        "# Only popular quotes\n",
        "\n",
        "We have noted that most quotes are not getting a lot of citations. It would be more prudent to analyze more popular quotes, where the variation in y is greater so resulta can be assessed more accurately.\n",
        "\n",
        "Note much smaller MSE (0.4) compared to non-restricted case (0.9) even though both samples are large."
      ],
      "metadata": {
        "id": "6w_bQXbYl0de"
      }
    },
    {
      "cell_type": "code",
      "source": [
        "# restrict\n",
        "limit = 100\n",
        "df = df_all[df_all['numOccurrences'] > limit].reset_index(drop=True)\n",
        "df.shape"
      ],
      "metadata": {
        "colab": {
          "base_uri": "https://localhost:8080/"
        },
        "id": "W7M80dDN03Cb",
        "outputId": "54911d0d-4d81-445f-f3e9-3597c83d0b4c"
      },
      "execution_count": null,
      "outputs": [
        {
          "output_type": "execute_result",
          "data": {
            "text/plain": [
              "(88638, 9)"
            ]
          },
          "metadata": {},
          "execution_count": 7
        }
      ]
    },
    {
      "cell_type": "code",
      "source": [
        "df.describe(percentiles=[0.01, 0.1, 0.25, 0.5, 0.75, 0.9, 0.99])"
      ],
      "metadata": {
        "colab": {
          "base_uri": "https://localhost:8080/",
          "height": 417
        },
        "id": "NCrCNFt6jJVs",
        "outputId": "0678be42-b164-479a-f143-7a0ba35eb3dd"
      },
      "execution_count": null,
      "outputs": [
        {
          "output_type": "execute_result",
          "data": {
            "text/html": [
              "<div>\n",
              "<style scoped>\n",
              "    .dataframe tbody tr th:only-of-type {\n",
              "        vertical-align: middle;\n",
              "    }\n",
              "\n",
              "    .dataframe tbody tr th {\n",
              "        vertical-align: top;\n",
              "    }\n",
              "\n",
              "    .dataframe thead th {\n",
              "        text-align: right;\n",
              "    }\n",
              "</style>\n",
              "<table border=\"1\" class=\"dataframe\">\n",
              "  <thead>\n",
              "    <tr style=\"text-align: right;\">\n",
              "      <th></th>\n",
              "      <th>numWords</th>\n",
              "      <th>numOccurrences</th>\n",
              "      <th>averageWordLength</th>\n",
              "      <th>largestWordLength</th>\n",
              "      <th>numOfPunctuation</th>\n",
              "      <th>numRepeatedWords</th>\n",
              "      <th>numNumbers</th>\n",
              "    </tr>\n",
              "  </thead>\n",
              "  <tbody>\n",
              "    <tr>\n",
              "      <th>count</th>\n",
              "      <td>88638.000000</td>\n",
              "      <td>88638.000000</td>\n",
              "      <td>88638.000000</td>\n",
              "      <td>88638.000000</td>\n",
              "      <td>88638.000000</td>\n",
              "      <td>88638.000000</td>\n",
              "      <td>88638.000000</td>\n",
              "    </tr>\n",
              "    <tr>\n",
              "      <th>mean</th>\n",
              "      <td>23.510560</td>\n",
              "      <td>345.611544</td>\n",
              "      <td>4.438974</td>\n",
              "      <td>9.944922</td>\n",
              "      <td>3.635179</td>\n",
              "      <td>2.199034</td>\n",
              "      <td>0.085798</td>\n",
              "    </tr>\n",
              "    <tr>\n",
              "      <th>std</th>\n",
              "      <td>10.311469</td>\n",
              "      <td>3141.766093</td>\n",
              "      <td>0.642694</td>\n",
              "      <td>2.036018</td>\n",
              "      <td>2.437730</td>\n",
              "      <td>2.154723</td>\n",
              "      <td>0.362423</td>\n",
              "    </tr>\n",
              "    <tr>\n",
              "      <th>min</th>\n",
              "      <td>12.000000</td>\n",
              "      <td>101.000000</td>\n",
              "      <td>2.140000</td>\n",
              "      <td>4.000000</td>\n",
              "      <td>0.000000</td>\n",
              "      <td>0.000000</td>\n",
              "      <td>0.000000</td>\n",
              "    </tr>\n",
              "    <tr>\n",
              "      <th>1%</th>\n",
              "      <td>12.000000</td>\n",
              "      <td>101.000000</td>\n",
              "      <td>3.170000</td>\n",
              "      <td>6.000000</td>\n",
              "      <td>1.000000</td>\n",
              "      <td>0.000000</td>\n",
              "      <td>0.000000</td>\n",
              "    </tr>\n",
              "    <tr>\n",
              "      <th>10%</th>\n",
              "      <td>13.000000</td>\n",
              "      <td>106.000000</td>\n",
              "      <td>3.650000</td>\n",
              "      <td>7.000000</td>\n",
              "      <td>1.000000</td>\n",
              "      <td>0.000000</td>\n",
              "      <td>0.000000</td>\n",
              "    </tr>\n",
              "    <tr>\n",
              "      <th>25%</th>\n",
              "      <td>16.000000</td>\n",
              "      <td>114.000000</td>\n",
              "      <td>4.000000</td>\n",
              "      <td>9.000000</td>\n",
              "      <td>2.000000</td>\n",
              "      <td>1.000000</td>\n",
              "      <td>0.000000</td>\n",
              "    </tr>\n",
              "    <tr>\n",
              "      <th>50%</th>\n",
              "      <td>21.000000</td>\n",
              "      <td>141.000000</td>\n",
              "      <td>4.390000</td>\n",
              "      <td>10.000000</td>\n",
              "      <td>3.000000</td>\n",
              "      <td>2.000000</td>\n",
              "      <td>0.000000</td>\n",
              "    </tr>\n",
              "    <tr>\n",
              "      <th>75%</th>\n",
              "      <td>28.000000</td>\n",
              "      <td>218.000000</td>\n",
              "      <td>4.850000</td>\n",
              "      <td>11.000000</td>\n",
              "      <td>5.000000</td>\n",
              "      <td>3.000000</td>\n",
              "      <td>0.000000</td>\n",
              "    </tr>\n",
              "    <tr>\n",
              "      <th>90%</th>\n",
              "      <td>38.000000</td>\n",
              "      <td>371.000000</td>\n",
              "      <td>5.300000</td>\n",
              "      <td>13.000000</td>\n",
              "      <td>7.000000</td>\n",
              "      <td>5.000000</td>\n",
              "      <td>0.000000</td>\n",
              "    </tr>\n",
              "    <tr>\n",
              "      <th>99%</th>\n",
              "      <td>58.000000</td>\n",
              "      <td>1341.630000</td>\n",
              "      <td>6.130000</td>\n",
              "      <td>15.000000</td>\n",
              "      <td>12.000000</td>\n",
              "      <td>9.000000</td>\n",
              "      <td>2.000000</td>\n",
              "    </tr>\n",
              "    <tr>\n",
              "      <th>max</th>\n",
              "      <td>92.000000</td>\n",
              "      <td>237994.000000</td>\n",
              "      <td>6.710000</td>\n",
              "      <td>15.000000</td>\n",
              "      <td>15.000000</td>\n",
              "      <td>12.000000</td>\n",
              "      <td>8.000000</td>\n",
              "    </tr>\n",
              "  </tbody>\n",
              "</table>\n",
              "</div>"
            ],
            "text/plain": [
              "           numWords  numOccurrences  ...  numRepeatedWords    numNumbers\n",
              "count  88638.000000    88638.000000  ...      88638.000000  88638.000000\n",
              "mean      23.510560      345.611544  ...          2.199034      0.085798\n",
              "std       10.311469     3141.766093  ...          2.154723      0.362423\n",
              "min       12.000000      101.000000  ...          0.000000      0.000000\n",
              "1%        12.000000      101.000000  ...          0.000000      0.000000\n",
              "10%       13.000000      106.000000  ...          0.000000      0.000000\n",
              "25%       16.000000      114.000000  ...          1.000000      0.000000\n",
              "50%       21.000000      141.000000  ...          2.000000      0.000000\n",
              "75%       28.000000      218.000000  ...          3.000000      0.000000\n",
              "90%       38.000000      371.000000  ...          5.000000      0.000000\n",
              "99%       58.000000     1341.630000  ...          9.000000      2.000000\n",
              "max       92.000000   237994.000000  ...         12.000000      8.000000\n",
              "\n",
              "[12 rows x 7 columns]"
            ]
          },
          "metadata": {},
          "execution_count": 8
        }
      ]
    },
    {
      "cell_type": "code",
      "source": [
        "sns.histplot(x=df.numOccurrences, bins=25, log_scale=True);"
      ],
      "metadata": {
        "colab": {
          "base_uri": "https://localhost:8080/",
          "height": 283
        },
        "id": "bdvlsc88kKnv",
        "outputId": "384cf21d-6d02-4238-f461-e01f4e3d98f5"
      },
      "execution_count": null,
      "outputs": [
        {
          "output_type": "display_data",
          "data": {
            "image/png": "[encoded data removed]",
            "text/plain": [
              "<Figure size 432x288 with 1 Axes>"
            ]
          },
          "metadata": {
            "needs_background": "light"
          }
        }
      ]
    },
    {
      "cell_type": "code",
      "source": [
        "# Regress numOccurrences on all the numerical features\n",
        "m = smf.ols('''np.log(numOccurrences) ~ numWords\n",
        "                + averageWordLength + largestWordLength + numOfPunctuation + numRepeatedWords + numNumbers''', \n",
        "            data=df).fit()\n",
        "print('MSE:', mse(np.log(df.numOccurrences), m.predict(df)))\n",
        "print(m.summary())"
      ],
      "metadata": {
        "colab": {
          "base_uri": "https://localhost:8080/"
        },
        "id": "7LRQkCxRw06Y",
        "outputId": "e58c9b5e-303b-472c-931a-5d100d2b5913"
      },
      "execution_count": null,
      "outputs": [
        {
          "output_type": "stream",
          "name": "stdout",
          "text": [
            "MSE: 0.38163611249045415\n",
            "                              OLS Regression Results                              \n",
            "==================================================================================\n",
            "Dep. Variable:     np.log(numOccurrences)   R-squared:                       0.022\n",
            "Model:                                OLS   Adj. R-squared:                  0.022\n",
            "Method:                     Least Squares   F-statistic:                     327.7\n",
            "Date:                    Wed, 15 Dec 2021   Prob (F-statistic):               0.00\n",
            "Time:                            11:56:11   Log-Likelihood:                -83080.\n",
            "No. Observations:                   88638   AIC:                         1.662e+05\n",
            "Df Residuals:                       88631   BIC:                         1.662e+05\n",
            "Df Model:                               6                                         \n",
            "Covariance Type:                nonrobust                                         \n",
            "=====================================================================================\n",
            "                        coef    std err          t      P>|t|      [0.025      0.975]\n",
            "-------------------------------------------------------------------------------------\n",
            "Intercept             5.0513      0.016    324.683      0.000       5.021       5.082\n",
            "numWords             -0.0095      0.000    -26.417      0.000      -0.010      -0.009\n",
            "averageWordLength     0.0542      0.004     12.627      0.000       0.046       0.063\n",
            "largestWordLength     0.0020      0.001      1.438      0.151      -0.001       0.005\n",
            "numOfPunctuation      0.0196      0.001     19.808      0.000       0.018       0.022\n",
            "numRepeatedWords     -0.0002      0.002     -0.151      0.880      -0.003       0.003\n",
            "numNumbers           -0.0078      0.006     -1.345      0.179      -0.019       0.004\n",
            "==============================================================================\n",
            "Omnibus:                    62110.140   Durbin-Watson:                   1.993\n",
            "Prob(Omnibus):                  0.000   Jarque-Bera (JB):          1426643.084\n",
            "Skew:                           3.104   Prob(JB):                         0.00\n",
            "Kurtosis:                      21.648   Cond. No.                         215.\n",
            "==============================================================================\n",
            "\n",
            "Warnings:\n",
            "[1] Standard Errors assume that the covariance matrix of the errors is correctly specified.\n"
          ]
        }
      ]
    },
    {
      "cell_type": "markdown",
      "source": [
        "## Feature engineering\n",
        "\n",
        "OLS performs best when we have linear dependence betweeen target variable and features. This can be avoided by using nonlinear transformation of features. A classic approach is to try second order interactions. As a first step to determine whether this will improve our results, we use all possible second order interactions. We find that these do not give useful results as well - MSE does not increase significantly. Therefore we conclude that these features, although significant, contribute to a very small extent. "
      ],
      "metadata": {
        "id": "huu_Il77mYlK"
      }
    },
    {
      "cell_type": "code",
      "source": [
        "# Regress all the squares and interaction terms on log(numOccurrences)\n",
        "names = ['numWords', 'averageWordLength', 'largestWordLength',\n",
        "        'numOfPunctuation', 'numRepeatedWords', 'numNumbers']\n",
        "X = df[names]\n",
        "poly = PolynomialFeatures(2)\n",
        "X = poly.fit_transform(X)\n",
        "X = pd.DataFrame(data=X, columns=poly.get_feature_names_out(names))\n",
        "m1 = sm.OLS(np.log(df.numOccurrences), X).fit()\n",
        "print('MSE:', mse(np.log(df.numOccurrences), m1.predict(X)))\n",
        "print(m1.summary())"
      ],
      "metadata": {
        "colab": {
          "base_uri": "https://localhost:8080/"
        },
        "id": "t669o4Yux0Ei",
        "outputId": "008565b0-aa32-40b3-fbb4-b1bc14c5c1ce"
      },
      "execution_count": null,
      "outputs": [
        {
          "output_type": "stream",
          "name": "stdout",
          "text": [
            "MSE: 0.380196882833802\n",
            "                            OLS Regression Results                            \n",
            "==============================================================================\n",
            "Dep. Variable:         numOccurrences   R-squared:                       0.025\n",
            "Model:                            OLS   Adj. R-squared:                  0.025\n",
            "Method:                 Least Squares   F-statistic:                     85.50\n",
            "Date:                Wed, 15 Dec 2021   Prob (F-statistic):               0.00\n",
            "Time:                        11:56:11   Log-Likelihood:                -82912.\n",
            "No. Observations:               88638   AIC:                         1.659e+05\n",
            "Df Residuals:                   88610   BIC:                         1.661e+05\n",
            "Df Model:                          27                                         \n",
            "Covariance Type:            nonrobust                                         \n",
            "=======================================================================================================\n",
            "                                          coef    std err          t      P>|t|      [0.025      0.975]\n",
            "-------------------------------------------------------------------------------------------------------\n",
            "1                                       4.6470      0.088     52.606      0.000       4.474       4.820\n",
            "numWords                               -0.0148      0.003     -5.122      0.000      -0.020      -0.009\n",
            "averageWordLength                       0.3693      0.043      8.669      0.000       0.286       0.453\n",
            "largestWordLength                      -0.0345      0.011     -3.184      0.001      -0.056      -0.013\n",
            "numOfPunctuation                       -0.0207      0.008     -2.619      0.009      -0.036      -0.005\n",
            "numRepeatedWords                        0.0160      0.013      1.246      0.213      -0.009       0.041\n",
            "numNumbers                             -0.0282      0.044     -0.643      0.520      -0.114       0.058\n",
            "numWords^2                              0.0001   3.78e-05      3.391      0.001    5.41e-05       0.000\n",
            "numWords averageWordLength             -0.0001      0.001     -0.176      0.860      -0.002       0.001\n",
            "numWords largestWordLength             -0.0002      0.000     -0.934      0.351      -0.001       0.000\n",
            "numWords numOfPunctuation           -8.945e-07      0.000     -0.006      0.996      -0.000       0.000\n",
            "numWords numRepeatedWords             5.27e-05      0.000      0.180      0.857      -0.001       0.001\n",
            "numWords numNumbers                     0.0008      0.001      0.926      0.355      -0.001       0.003\n",
            "averageWordLength^2                    -0.0381      0.006     -6.254      0.000      -0.050      -0.026\n",
            "averageWordLength largestWordLength     0.0020      0.003      0.620      0.535      -0.004       0.008\n",
            "averageWordLength numOfPunctuation      0.0070      0.002      3.396      0.001       0.003       0.011\n",
            "averageWordLength numRepeatedWords     -0.0024      0.004     -0.678      0.498      -0.009       0.005\n",
            "averageWordLength numNumbers           -0.0074      0.012     -0.629      0.530      -0.030       0.016\n",
            "largestWordLength^2                     0.0012      0.001      1.852      0.064   -7.16e-05       0.003\n",
            "largestWordLength numOfPunctuation      0.0021      0.001      3.241      0.001       0.001       0.003\n",
            "largestWordLength numRepeatedWords     -0.0005      0.001     -0.444      0.657      -0.003       0.002\n",
            "largestWordLength numNumbers            0.0020      0.004      0.528      0.598      -0.005       0.010\n",
            "numOfPunctuation^2                     -0.0004      0.000     -1.285      0.199      -0.001       0.000\n",
            "numOfPunctuation numRepeatedWords      -0.0028      0.001     -4.053      0.000      -0.004      -0.001\n",
            "numOfPunctuation numNumbers             0.0059      0.002      2.835      0.005       0.002       0.010\n",
            "numRepeatedWords^2                      0.0016      0.001      2.155      0.031       0.000       0.003\n",
            "numRepeatedWords numNumbers            -0.0058      0.004     -1.445      0.148      -0.014       0.002\n",
            "numNumbers^2                           -0.0038      0.005     -0.801      0.423      -0.013       0.005\n",
            "==============================================================================\n",
            "Omnibus:                    62164.045   Durbin-Watson:                   1.992\n",
            "Prob(Omnibus):                  0.000   Jarque-Bera (JB):          1439836.539\n",
            "Skew:                           3.104   Prob(JB):                         0.00\n",
            "Kurtosis:                      21.743   Cond. No.                     4.60e+04\n",
            "==============================================================================\n",
            "\n",
            "Warnings:\n",
            "[1] Standard Errors assume that the covariance matrix of the errors is correctly specified.\n",
            "[2] The condition number is large, 4.6e+04. This might indicate that there are\n",
            "strong multicollinearity or other numerical problems.\n"
          ]
        }
      ]
    },
    {
      "cell_type": "markdown",
      "source": [
        "## Nonlinear model\n",
        "\n",
        "To make a complete a prudent analysis, we use state-of-the-art nonlinear regression model provided by XGBoost library. It is based on the idea of Random Forest and Gradient boosting. This model is universally acclaimed as one of the best classifier models existing, and usually outperforms most other classification methods in practice (source: their site somewhere, add link). For regression purposes, it is a great methods as well, but need to use other objective function.\n",
        "\n",
        "Here we also use second order interactions, to be consistent and concern possible very complex nonlinearity. Our large sample size allows us to allow for more degrees of freedon without stability problems.\n",
        "\n",
        "Model performs only slightly better than OLS, therefore we conclude that even more complex forms of nonlinearity do not explain the data well."
      ],
      "metadata": {
        "id": "jBLbQJQOnWD7"
      }
    },
    {
      "cell_type": "code",
      "source": [
        "params = {'objective': 'reg:squarederror', 'max_depth': 4, 'eta': 1, 'num_rounds':20}\n",
        "xgbm = xgb.XGBRegressor(**params)\n",
        "xgbm.fit(X, np.log(df.numOccurrences))\n",
        "#xgbm = xgb.train(params, xgb.DMatrix(X, label=np.log(df.numOccurrences)), num_rounds)"
      ],
      "metadata": {
        "colab": {
          "base_uri": "https://localhost:8080/"
        },
        "id": "jIrvJhajodU6",
        "outputId": "96c45450-bef6-4a18-ccc1-1668481220f0"
      },
      "execution_count": null,
      "outputs": [
        {
          "output_type": "execute_result",
          "data": {
            "text/plain": [
              "XGBRegressor(eta=1, max_depth=4, num_rounds=20, objective='reg:squarederror')"
            ]
          },
          "metadata": {},
          "execution_count": 12
        }
      ]
    },
    {
      "cell_type": "code",
      "source": [
        "print('MSE:', mse(np.log(df.numOccurrences), xgbm.predict(X)))"
      ],
      "metadata": {
        "colab": {
          "base_uri": "https://localhost:8080/"
        },
        "id": "oLutreBmw10U",
        "outputId": "0e3b6580-2781-4a70-b8fc-94e1d0dd8408"
      },
      "execution_count": null,
      "outputs": [
        {
          "output_type": "stream",
          "name": "stdout",
          "text": [
            "MSE: 0.37272731488030325\n"
          ]
        }
      ]
    },
    {
      "cell_type": "code",
      "source": [
        "xgb.plot_importance(xgbm);"
      ],
      "metadata": {
        "colab": {
          "base_uri": "https://localhost:8080/",
          "height": 295
        },
        "id": "La87-8fItHWG",
        "outputId": "9607ddec-8da5-4161-c62a-0b148bf40f73"
      },
      "execution_count": null,
      "outputs": [
        {
          "output_type": "display_data",
          "data": {
            "image/png": "[encoded data removed]",
            "text/plain": [
              "<Figure size 432x288 with 1 Axes>"
            ]
          },
          "metadata": {
            "needs_background": "light"
          }
        }
      ]
    },
    {
      "cell_type": "markdown",
      "source": [
        "## Classifier\n",
        "\n",
        "Take sample where # of popular and not quotes are equal. Popular means numOcc > 100. Build classifier and try to predict \"popular\" quotes"
      ],
      "metadata": {
        "id": "jTA9I1Nb7yl6"
      }
    },
    {
      "cell_type": "code",
      "source": [
        "df_class = df.append(df_all[df_all.numOccurrences <= limit].sample(n=df.shape[0]), ignore_index=True)\n",
        "df_class['Popular'] = df_class.numOccurrences.apply(lambda x: 1 if x>limit else 0)\n",
        "df_class = df_class.drop(columns='numNumbers')\n",
        "df_class"
      ],
      "metadata": {
        "colab": {
          "base_uri": "https://localhost:8080/",
          "height": 415
        },
        "id": "3UdP8yLu7n61",
        "outputId": "67a5f1d8-b9c7-4e01-e1fb-5f082e1cf1f0"
      },
      "execution_count": null,
      "outputs": [
        {
          "output_type": "execute_result",
          "data": {
            "text/html": [
              "<div>\n",
              "<style scoped>\n",
              "    .dataframe tbody tr th:only-of-type {\n",
              "        vertical-align: middle;\n",
              "    }\n",
              "\n",
              "    .dataframe tbody tr th {\n",
              "        vertical-align: top;\n",
              "    }\n",
              "\n",
              "    .dataframe thead th {\n",
              "        text-align: right;\n",
              "    }\n",
              "</style>\n",
              "<table border=\"1\" class=\"dataframe\">\n",
              "  <thead>\n",
              "    <tr style=\"text-align: right;\">\n",
              "      <th></th>\n",
              "      <th>numWords</th>\n",
              "      <th>speaker</th>\n",
              "      <th>numOccurrences</th>\n",
              "      <th>averageWordLength</th>\n",
              "      <th>largestWordLength</th>\n",
              "      <th>numOfPunctuation</th>\n",
              "      <th>numRepeatedWords</th>\n",
              "      <th>date</th>\n",
              "      <th>Popular</th>\n",
              "    </tr>\n",
              "  </thead>\n",
              "  <tbody>\n",
              "    <tr>\n",
              "      <th>0</th>\n",
              "      <td>28</td>\n",
              "      <td>None</td>\n",
              "      <td>101</td>\n",
              "      <td>5.36</td>\n",
              "      <td>13</td>\n",
              "      <td>6</td>\n",
              "      <td>2</td>\n",
              "      <td>2017-05-05 12:24:13</td>\n",
              "      <td>1</td>\n",
              "    </tr>\n",
              "    <tr>\n",
              "      <th>1</th>\n",
              "      <td>17</td>\n",
              "      <td>None</td>\n",
              "      <td>102</td>\n",
              "      <td>4.82</td>\n",
              "      <td>10</td>\n",
              "      <td>4</td>\n",
              "      <td>0</td>\n",
              "      <td>2017-08-12 07:10:00</td>\n",
              "      <td>1</td>\n",
              "    </tr>\n",
              "    <tr>\n",
              "      <th>2</th>\n",
              "      <td>28</td>\n",
              "      <td>None</td>\n",
              "      <td>237</td>\n",
              "      <td>6.21</td>\n",
              "      <td>13</td>\n",
              "      <td>2</td>\n",
              "      <td>1</td>\n",
              "      <td>2017-10-24 00:00:00</td>\n",
              "      <td>1</td>\n",
              "    </tr>\n",
              "    <tr>\n",
              "      <th>3</th>\n",
              "      <td>15</td>\n",
              "      <td>Prime Minister Theresa May</td>\n",
              "      <td>209</td>\n",
              "      <td>5.47</td>\n",
              "      <td>9</td>\n",
              "      <td>1</td>\n",
              "      <td>0</td>\n",
              "      <td>2017-05-23 00:00:00</td>\n",
              "      <td>1</td>\n",
              "    </tr>\n",
              "    <tr>\n",
              "      <th>4</th>\n",
              "      <td>17</td>\n",
              "      <td>President Donald Trump</td>\n",
              "      <td>121</td>\n",
              "      <td>4.71</td>\n",
              "      <td>10</td>\n",
              "      <td>1</td>\n",
              "      <td>1</td>\n",
              "      <td>2017-11-24 09:12:00</td>\n",
              "      <td>1</td>\n",
              "    </tr>\n",
              "    <tr>\n",
              "      <th>...</th>\n",
              "      <td>...</td>\n",
              "      <td>...</td>\n",
              "      <td>...</td>\n",
              "      <td>...</td>\n",
              "      <td>...</td>\n",
              "      <td>...</td>\n",
              "      <td>...</td>\n",
              "      <td>...</td>\n",
              "      <td>...</td>\n",
              "    </tr>\n",
              "    <tr>\n",
              "      <th>177271</th>\n",
              "      <td>18</td>\n",
              "      <td>None</td>\n",
              "      <td>3</td>\n",
              "      <td>4.33</td>\n",
              "      <td>15</td>\n",
              "      <td>1</td>\n",
              "      <td>0</td>\n",
              "      <td>2017-04-14 22:59:20</td>\n",
              "      <td>0</td>\n",
              "    </tr>\n",
              "    <tr>\n",
              "      <th>177272</th>\n",
              "      <td>21</td>\n",
              "      <td>None</td>\n",
              "      <td>3</td>\n",
              "      <td>4.48</td>\n",
              "      <td>9</td>\n",
              "      <td>3</td>\n",
              "      <td>2</td>\n",
              "      <td>2017-06-13 07:28:49</td>\n",
              "      <td>0</td>\n",
              "    </tr>\n",
              "    <tr>\n",
              "      <th>177273</th>\n",
              "      <td>42</td>\n",
              "      <td>None</td>\n",
              "      <td>6</td>\n",
              "      <td>4.05</td>\n",
              "      <td>11</td>\n",
              "      <td>5</td>\n",
              "      <td>4</td>\n",
              "      <td>2017-04-10 08:00:00</td>\n",
              "      <td>0</td>\n",
              "    </tr>\n",
              "    <tr>\n",
              "      <th>177274</th>\n",
              "      <td>34</td>\n",
              "      <td>Stephen King</td>\n",
              "      <td>2</td>\n",
              "      <td>4.56</td>\n",
              "      <td>10</td>\n",
              "      <td>2</td>\n",
              "      <td>3</td>\n",
              "      <td>2017-05-02 07:00:00</td>\n",
              "      <td>0</td>\n",
              "    </tr>\n",
              "    <tr>\n",
              "      <th>177275</th>\n",
              "      <td>24</td>\n",
              "      <td>Helen James</td>\n",
              "      <td>4</td>\n",
              "      <td>3.88</td>\n",
              "      <td>7</td>\n",
              "      <td>4</td>\n",
              "      <td>1</td>\n",
              "      <td>2017-11-17 21:48:19</td>\n",
              "      <td>0</td>\n",
              "    </tr>\n",
              "  </tbody>\n",
              "</table>\n",
              "<p>177276 rows × 9 columns</p>\n",
              "</div>"
            ],
            "text/plain": [
              "        numWords                     speaker  ...                date  Popular\n",
              "0             28                        None  ... 2017-05-05 12:24:13        1\n",
              "1             17                        None  ... 2017-08-12 07:10:00        1\n",
              "2             28                        None  ... 2017-10-24 00:00:00        1\n",
              "3             15  Prime Minister Theresa May  ... 2017-05-23 00:00:00        1\n",
              "4             17      President Donald Trump  ... 2017-11-24 09:12:00        1\n",
              "...          ...                         ...  ...                 ...      ...\n",
              "177271        18                        None  ... 2017-04-14 22:59:20        0\n",
              "177272        21                        None  ... 2017-06-13 07:28:49        0\n",
              "177273        42                        None  ... 2017-04-10 08:00:00        0\n",
              "177274        34                Stephen King  ... 2017-05-02 07:00:00        0\n",
              "177275        24                 Helen James  ... 2017-11-17 21:48:19        0\n",
              "\n",
              "[177276 rows x 9 columns]"
            ]
          },
          "metadata": {},
          "execution_count": 20
        }
      ]
    },
    {
      "cell_type": "code",
      "source": [
        "# Logit\n",
        "names = ['numWords', 'averageWordLength', 'largestWordLength',\n",
        "        'numOfPunctuation', 'numRepeatedWords']\n",
        "X = df_class[names]\n",
        "poly = PolynomialFeatures(2)\n",
        "X = poly.fit_transform(X)\n",
        "X = pd.DataFrame(data=X, columns=poly.get_feature_names_out(names))\n",
        "\n",
        "m4 = sm.Logit(df_class.Popular, X).fit()\n",
        "print('MSE:', mse(df_class.Popular, m4.predict(X)))\n",
        "print(m4.summary())"
      ],
      "metadata": {
        "colab": {
          "base_uri": "https://localhost:8080/"
        },
        "id": "JoYnzJip9Kz-",
        "outputId": "97d51a6f-60af-4f2e-e1a6-23badd65172d"
      },
      "execution_count": null,
      "outputs": [
        {
          "output_type": "stream",
          "name": "stdout",
          "text": [
            "Optimization terminated successfully.\n",
            "         Current function value: 0.682529\n",
            "         Iterations 5\n",
            "MSE: 0.24481081747672673\n",
            "                           Logit Regression Results                           \n",
            "==============================================================================\n",
            "Dep. Variable:                Popular   No. Observations:               177276\n",
            "Model:                          Logit   Df Residuals:                   177255\n",
            "Method:                           MLE   Df Model:                           20\n",
            "Date:                Wed, 15 Dec 2021   Pseudo R-squ.:                 0.01532\n",
            "Time:                        12:00:54   Log-Likelihood:            -1.2100e+05\n",
            "converged:                       True   LL-Null:                   -1.2288e+05\n",
            "Covariance Type:            nonrobust   LLR p-value:                     0.000\n",
            "=======================================================================================================\n",
            "                                          coef    std err          z      P>|z|      [0.025      0.975]\n",
            "-------------------------------------------------------------------------------------------------------\n",
            "1                                      -2.9374      0.199    -14.737      0.000      -3.328      -2.547\n",
            "numWords                                0.0059      0.006      0.934      0.350      -0.007       0.018\n",
            "averageWordLength                       1.5015      0.097     15.508      0.000       1.312       1.691\n",
            "largestWordLength                      -0.1023      0.025     -4.088      0.000      -0.151      -0.053\n",
            "numOfPunctuation                       -0.0342      0.018     -1.918      0.055      -0.069       0.001\n",
            "numRepeatedWords                        0.1384      0.029      4.841      0.000       0.082       0.194\n",
            "numWords^2                              0.0002   8.16e-05      2.108      0.035    1.21e-05       0.000\n",
            "numWords averageWordLength             -0.0065      0.002     -3.780      0.000      -0.010      -0.003\n",
            "numWords largestWordLength             -0.0001      0.001     -0.191      0.849      -0.001       0.001\n",
            "numWords numOfPunctuation              -0.0023      0.000     -6.707      0.000      -0.003      -0.002\n",
            "numWords numRepeatedWords              -0.0009      0.001     -1.428      0.153      -0.002       0.000\n",
            "averageWordLength^2                    -0.1476      0.014    -10.501      0.000      -0.175      -0.120\n",
            "averageWordLength largestWordLength     0.0084      0.008      1.099      0.272      -0.007       0.023\n",
            "averageWordLength numOfPunctuation      0.0100      0.005      2.109      0.035       0.001       0.019\n",
            "averageWordLength numRepeatedWords     -0.0253      0.008     -3.173      0.002      -0.041      -0.010\n",
            "largestWordLength^2                     0.0032      0.002      2.053      0.040       0.000       0.006\n",
            "largestWordLength numOfPunctuation      0.0044      0.001      2.953      0.003       0.001       0.007\n",
            "largestWordLength numRepeatedWords      0.0014      0.002      0.577      0.564      -0.003       0.006\n",
            "numOfPunctuation^2                      0.0016      0.001      2.407      0.016       0.000       0.003\n",
            "numOfPunctuation numRepeatedWords      -0.0009      0.002     -0.583      0.560      -0.004       0.002\n",
            "numRepeatedWords^2                      0.0018      0.002      1.050      0.294      -0.002       0.005\n",
            "=======================================================================================================\n"
          ]
        }
      ]
    },
    {
      "cell_type": "code",
      "source": [
        "params = {'objective': 'binary:logistic', 'max_depth': 3, 'eta': 1, 'num_rounds':20}\n",
        "xgbm = xgb.XGBRegressor(**params)\n",
        "xgbm.fit(X, df_class.Popular)\n",
        "print('MSE:', mse(df_class.Popular, xgbm.predict(X)))\n",
        "xgb.plot_importance(xgbm);"
      ],
      "metadata": {
        "colab": {
          "base_uri": "https://localhost:8080/",
          "height": 313
        },
        "id": "FIg-swZ49sML",
        "outputId": "d94cd1e2-cbbd-4481-c444-d74cb5c5f453"
      },
      "execution_count": null,
      "outputs": [
        {
          "output_type": "stream",
          "name": "stdout",
          "text": [
            "MSE: 0.24361504484820362\n"
          ]
        },
        {
          "output_type": "display_data",
          "data": {
            "image/png": "[encoded data removed]",
            "text/plain": [
              "<Figure size 432x288 with 1 Axes>"
            ]
          },
          "metadata": {
            "needs_background": "light"
          }
        }
      ]
    },
    {
      "cell_type": "markdown",
      "source": [
        "## Google Trends\n",
        "\n",
        "We can obtain data from google trends via their API and pytrends library. (Description here from our git Readme). We use data for monthly popularity of a speaker.\n",
        "\n",
        "We have taken a subsample of most popular quotes (ones with over 1000 citations), obtained list of \"popular\" speakers, and obtained GT data for them. We have obtained 290 unique speaker names. Note that this is by no means exhastive analysis, as\n",
        "\n",
        "1) For correct speaker inference, we need to take name which will uniquely identify a person, and also concat all similar names to this one. Given that Quotebank data has \"President Donald Trump\" and \"Donal Trump\" as different entities, we leave it for further research.\n",
        "\n",
        "2) GT data has strict request requirements, and for example cannot process non-ascii characters. We leave it for further research as well.\n",
        "\n",
        "3) Our sample is limited by number of calls to Google API, after which there is a temporary search ban. 3 proxies were used to obtain a sample of 290 speakers over 2 days. Sample could be much larger, but this is enough to access its importance.\n",
        "\n",
        "\n",
        "After obtaining the results, we take average popularity from 2012 to the date of quotation provided by dataset. 2012 is taken as a reasonable period over which GT data is more stable, but also relevant. Smaller periods give somewhat worse results. "
      ],
      "metadata": {
        "id": "-cFrR-pZ9p5e"
      }
    },
    {
      "cell_type": "code",
      "source": [
        "# restrict again\n",
        "limit = 1000\n",
        "df = df[df['numOccurrences'] > limit].reset_index(drop=True)\n",
        "df = df.drop(columns='numNumbers') #drop because don't really matter, and have small sample\n",
        "df.shape"
      ],
      "metadata": {
        "id": "nQ9sSD61uRHo"
      },
      "execution_count": null,
      "outputs": []
    },
    {
      "cell_type": "code",
      "source": [
        "m = smf.ols('''np.log(numOccurrences) ~ numWords\n",
        "                + averageWordLength + largestWordLength + numOfPunctuation + numRepeatedWords''', \n",
        "            data=df).fit()\n",
        "print('MSE:', mse(np.log(df.numOccurrences), m.predict(df)))\n",
        "print(m.summary())"
      ],
      "metadata": {
        "id": "bgiCDS5V0LK3"
      },
      "execution_count": null,
      "outputs": []
    },
    {
      "cell_type": "code",
      "source": [
        "# Regress all the squares and interaction terms on log(numOccurrences)\n",
        "names = ['numWords', 'averageWordLength', 'largestWordLength',\n",
        "        'numOfPunctuation', 'numRepeatedWords']\n",
        "X = df[names]\n",
        "poly = PolynomialFeatures(2)\n",
        "X = poly.fit_transform(X)\n",
        "X = pd.DataFrame(data=X, columns=poly.get_feature_names_out(names))\n",
        "m1 = sm.OLS(np.log(df.numOccurrences), X).fit()\n",
        "print('MSE:', mse(np.log(df.numOccurrences), m1.predict(X)))\n",
        "print(m1.summary())"
      ],
      "metadata": {
        "id": "NpL7sKtszcer"
      },
      "execution_count": null,
      "outputs": []
    },
    {
      "cell_type": "code",
      "source": [
        "# get most popular speakers\n",
        "speakers = df[df.speaker != 'None']\n",
        "print(speakers.shape)\n",
        "speakers[['speaker', 'date']].to_csv(path+'Speakers.csv', index=False)"
      ],
      "metadata": {
        "id": "-lIm8Ed1zvkn"
      },
      "execution_count": null,
      "outputs": []
    },
    {
      "cell_type": "markdown",
      "source": [
        "We have obtained data from second script. We merge the files, and take quotes which Quotebank credits to speakers in question. Sample is quite large. Even though this parameter is highly significant, we fail to say we have found any useful results."
      ],
      "metadata": {
        "id": "kkCP95yZMKhy"
      }
    },
    {
      "cell_type": "code",
      "source": [
        "# get the data from results\n",
        "\n",
        "n_files=6\n",
        "n_months = 6*12\n",
        "ans = []\n",
        "for i in range(n_files):\n",
        "  with open(path+f'GT_dump{i}.pickle', 'rb') as handle:\n",
        "    read = pickle.load(handle)\n",
        "    ans += read\n",
        "\n",
        "speakers_found = [i[0] for i in ans]\n",
        "ans_dict = {}\n",
        "for i in ans:\n",
        "  ans_dict[i[0]] = i[1]"
      ],
      "metadata": {
        "id": "HiszUKrO0oMZ"
      },
      "execution_count": null,
      "outputs": []
    },
    {
      "cell_type": "code",
      "source": [
        "df_gt = df_all[df_all.speaker.isin(speakers_found)].reset_index(drop=1)\n",
        "df_gt['months_to_2018'] = 12-df_gt.date.dt.month\n",
        "df_gt['SpeakerPop'] = df_gt.apply(lambda x: np.mean(ans_dict[x['speaker']][:-(x['months_to_2018'])]), axis=1)\n",
        "df_gt = df_gt[df_gt['SpeakerPop'] > 0]\n",
        "df_gt = df_gt.dropna().reset_index(drop=1)\n",
        "df_gt"
      ],
      "metadata": {
        "colab": {
          "base_uri": "https://localhost:8080/",
          "height": 820
        },
        "id": "sXmabssUEqYj",
        "outputId": "5ddeb64a-21fa-4f2b-a11d-df7885a10d76"
      },
      "execution_count": null,
      "outputs": [
        {
          "output_type": "stream",
          "name": "stderr",
          "text": [
            "/usr/local/lib/python3.7/dist-packages/numpy/core/fromnumeric.py:3373: RuntimeWarning: Mean of empty slice.\n",
            "  out=out, **kwargs)\n",
            "/usr/local/lib/python3.7/dist-packages/numpy/core/_methods.py:170: RuntimeWarning: invalid value encountered in double_scalars\n",
            "  ret = ret.dtype.type(ret / rcount)\n"
          ]
        },
        {
          "output_type": "execute_result",
          "data": {
            "text/html": [
              "<div>\n",
              "<style scoped>\n",
              "    .dataframe tbody tr th:only-of-type {\n",
              "        vertical-align: middle;\n",
              "    }\n",
              "\n",
              "    .dataframe tbody tr th {\n",
              "        vertical-align: top;\n",
              "    }\n",
              "\n",
              "    .dataframe thead th {\n",
              "        text-align: right;\n",
              "    }\n",
              "</style>\n",
              "<table border=\"1\" class=\"dataframe\">\n",
              "  <thead>\n",
              "    <tr style=\"text-align: right;\">\n",
              "      <th></th>\n",
              "      <th>numWords</th>\n",
              "      <th>speaker</th>\n",
              "      <th>numOccurrences</th>\n",
              "      <th>averageWordLength</th>\n",
              "      <th>largestWordLength</th>\n",
              "      <th>numOfPunctuation</th>\n",
              "      <th>numRepeatedWords</th>\n",
              "      <th>numNumbers</th>\n",
              "      <th>date</th>\n",
              "      <th>months_to_2018</th>\n",
              "      <th>SpeakerPop</th>\n",
              "    </tr>\n",
              "  </thead>\n",
              "  <tbody>\n",
              "    <tr>\n",
              "      <th>0</th>\n",
              "      <td>35</td>\n",
              "      <td>Doug Jones</td>\n",
              "      <td>2</td>\n",
              "      <td>4.49</td>\n",
              "      <td>12</td>\n",
              "      <td>5</td>\n",
              "      <td>4</td>\n",
              "      <td>0</td>\n",
              "      <td>2017-07-19 17:07:28</td>\n",
              "      <td>5</td>\n",
              "      <td>2.064516</td>\n",
              "    </tr>\n",
              "    <tr>\n",
              "      <th>1</th>\n",
              "      <td>26</td>\n",
              "      <td>President Donald Trump</td>\n",
              "      <td>4</td>\n",
              "      <td>5.38</td>\n",
              "      <td>11</td>\n",
              "      <td>4</td>\n",
              "      <td>2</td>\n",
              "      <td>0</td>\n",
              "      <td>2017-09-21 00:00:00</td>\n",
              "      <td>3</td>\n",
              "      <td>13.636364</td>\n",
              "    </tr>\n",
              "    <tr>\n",
              "      <th>2</th>\n",
              "      <td>14</td>\n",
              "      <td>Jeremy Corbyn</td>\n",
              "      <td>2</td>\n",
              "      <td>4.79</td>\n",
              "      <td>9</td>\n",
              "      <td>0</td>\n",
              "      <td>0</td>\n",
              "      <td>0</td>\n",
              "      <td>2017-06-08 13:36:27</td>\n",
              "      <td>6</td>\n",
              "      <td>15.500000</td>\n",
              "    </tr>\n",
              "    <tr>\n",
              "      <th>3</th>\n",
              "      <td>25</td>\n",
              "      <td>Bob Corker</td>\n",
              "      <td>3</td>\n",
              "      <td>4.32</td>\n",
              "      <td>13</td>\n",
              "      <td>3</td>\n",
              "      <td>3</td>\n",
              "      <td>0</td>\n",
              "      <td>2017-10-24 00:00:00</td>\n",
              "      <td>2</td>\n",
              "      <td>6.941176</td>\n",
              "    </tr>\n",
              "    <tr>\n",
              "      <th>4</th>\n",
              "      <td>19</td>\n",
              "      <td>Rex Tillerson</td>\n",
              "      <td>4</td>\n",
              "      <td>5.63</td>\n",
              "      <td>13</td>\n",
              "      <td>6</td>\n",
              "      <td>1</td>\n",
              "      <td>0</td>\n",
              "      <td>2017-03-18 17:29:09</td>\n",
              "      <td>9</td>\n",
              "      <td>9.851852</td>\n",
              "    </tr>\n",
              "    <tr>\n",
              "      <th>...</th>\n",
              "      <td>...</td>\n",
              "      <td>...</td>\n",
              "      <td>...</td>\n",
              "      <td>...</td>\n",
              "      <td>...</td>\n",
              "      <td>...</td>\n",
              "      <td>...</td>\n",
              "      <td>...</td>\n",
              "      <td>...</td>\n",
              "      <td>...</td>\n",
              "      <td>...</td>\n",
              "    </tr>\n",
              "    <tr>\n",
              "      <th>231449</th>\n",
              "      <td>16</td>\n",
              "      <td>Ernesto Abella</td>\n",
              "      <td>21</td>\n",
              "      <td>5.00</td>\n",
              "      <td>11</td>\n",
              "      <td>1</td>\n",
              "      <td>1</td>\n",
              "      <td>0</td>\n",
              "      <td>2017-08-18 00:00:00</td>\n",
              "      <td>4</td>\n",
              "      <td>13.906250</td>\n",
              "    </tr>\n",
              "    <tr>\n",
              "      <th>231450</th>\n",
              "      <td>26</td>\n",
              "      <td>Mike Pence</td>\n",
              "      <td>2</td>\n",
              "      <td>4.58</td>\n",
              "      <td>13</td>\n",
              "      <td>2</td>\n",
              "      <td>2</td>\n",
              "      <td>0</td>\n",
              "      <td>2017-06-06 20:15:00</td>\n",
              "      <td>6</td>\n",
              "      <td>15.133333</td>\n",
              "    </tr>\n",
              "    <tr>\n",
              "      <th>231451</th>\n",
              "      <td>17</td>\n",
              "      <td>Elon Musk</td>\n",
              "      <td>5</td>\n",
              "      <td>3.59</td>\n",
              "      <td>10</td>\n",
              "      <td>2</td>\n",
              "      <td>1</td>\n",
              "      <td>1</td>\n",
              "      <td>2017-07-17 14:22:06</td>\n",
              "      <td>5</td>\n",
              "      <td>41.032258</td>\n",
              "    </tr>\n",
              "    <tr>\n",
              "      <th>231452</th>\n",
              "      <td>13</td>\n",
              "      <td>Anthony Scaramucci</td>\n",
              "      <td>6</td>\n",
              "      <td>3.62</td>\n",
              "      <td>7</td>\n",
              "      <td>3</td>\n",
              "      <td>0</td>\n",
              "      <td>0</td>\n",
              "      <td>2017-11-21 17:26:54</td>\n",
              "      <td>1</td>\n",
              "      <td>4.457143</td>\n",
              "    </tr>\n",
              "    <tr>\n",
              "      <th>231453</th>\n",
              "      <td>42</td>\n",
              "      <td>Paul Ryan</td>\n",
              "      <td>2</td>\n",
              "      <td>4.48</td>\n",
              "      <td>10</td>\n",
              "      <td>6</td>\n",
              "      <td>5</td>\n",
              "      <td>0</td>\n",
              "      <td>2017-03-13 12:24:00</td>\n",
              "      <td>9</td>\n",
              "      <td>5.740741</td>\n",
              "    </tr>\n",
              "  </tbody>\n",
              "</table>\n",
              "<p>231454 rows × 11 columns</p>\n",
              "</div>"
            ],
            "text/plain": [
              "        numWords                 speaker  ...  months_to_2018  SpeakerPop\n",
              "0             35              Doug Jones  ...               5    2.064516\n",
              "1             26  President Donald Trump  ...               3   13.636364\n",
              "2             14           Jeremy Corbyn  ...               6   15.500000\n",
              "3             25              Bob Corker  ...               2    6.941176\n",
              "4             19           Rex Tillerson  ...               9    9.851852\n",
              "...          ...                     ...  ...             ...         ...\n",
              "231449        16          Ernesto Abella  ...               4   13.906250\n",
              "231450        26              Mike Pence  ...               6   15.133333\n",
              "231451        17               Elon Musk  ...               5   41.032258\n",
              "231452        13      Anthony Scaramucci  ...               1    4.457143\n",
              "231453        42               Paul Ryan  ...               9    5.740741\n",
              "\n",
              "[231454 rows x 11 columns]"
            ]
          },
          "metadata": {},
          "execution_count": 49
        }
      ]
    },
    {
      "cell_type": "code",
      "source": [
        "df_gt.describe()"
      ],
      "metadata": {
        "colab": {
          "base_uri": "https://localhost:8080/",
          "height": 294
        },
        "id": "E2dp9fiOIhT-",
        "outputId": "384edf69-15c9-49cb-d8ae-f582ce76037a"
      },
      "execution_count": null,
      "outputs": [
        {
          "output_type": "execute_result",
          "data": {
            "text/html": [
              "<div>\n",
              "<style scoped>\n",
              "    .dataframe tbody tr th:only-of-type {\n",
              "        vertical-align: middle;\n",
              "    }\n",
              "\n",
              "    .dataframe tbody tr th {\n",
              "        vertical-align: top;\n",
              "    }\n",
              "\n",
              "    .dataframe thead th {\n",
              "        text-align: right;\n",
              "    }\n",
              "</style>\n",
              "<table border=\"1\" class=\"dataframe\">\n",
              "  <thead>\n",
              "    <tr style=\"text-align: right;\">\n",
              "      <th></th>\n",
              "      <th>numWords</th>\n",
              "      <th>numOccurrences</th>\n",
              "      <th>averageWordLength</th>\n",
              "      <th>largestWordLength</th>\n",
              "      <th>numOfPunctuation</th>\n",
              "      <th>numRepeatedWords</th>\n",
              "      <th>numNumbers</th>\n",
              "      <th>months_to_2018</th>\n",
              "      <th>SpeakerPop</th>\n",
              "    </tr>\n",
              "  </thead>\n",
              "  <tbody>\n",
              "    <tr>\n",
              "      <th>count</th>\n",
              "      <td>231454.000000</td>\n",
              "      <td>231454.000000</td>\n",
              "      <td>231454.000000</td>\n",
              "      <td>231454.000000</td>\n",
              "      <td>231454.000000</td>\n",
              "      <td>231454.000000</td>\n",
              "      <td>231454.000000</td>\n",
              "      <td>231454.000000</td>\n",
              "      <td>231454.000000</td>\n",
              "    </tr>\n",
              "    <tr>\n",
              "      <th>mean</th>\n",
              "      <td>25.164434</td>\n",
              "      <td>37.639216</td>\n",
              "      <td>4.524836</td>\n",
              "      <td>10.222014</td>\n",
              "      <td>3.914104</td>\n",
              "      <td>2.575881</td>\n",
              "      <td>0.091820</td>\n",
              "      <td>5.249315</td>\n",
              "      <td>18.066762</td>\n",
              "    </tr>\n",
              "    <tr>\n",
              "      <th>std</th>\n",
              "      <td>11.813598</td>\n",
              "      <td>992.212243</td>\n",
              "      <td>0.634666</td>\n",
              "      <td>2.020516</td>\n",
              "      <td>2.693971</td>\n",
              "      <td>2.430727</td>\n",
              "      <td>0.383907</td>\n",
              "      <td>2.749254</td>\n",
              "      <td>11.036268</td>\n",
              "    </tr>\n",
              "    <tr>\n",
              "      <th>min</th>\n",
              "      <td>12.000000</td>\n",
              "      <td>2.000000</td>\n",
              "      <td>1.470000</td>\n",
              "      <td>3.000000</td>\n",
              "      <td>0.000000</td>\n",
              "      <td>0.000000</td>\n",
              "      <td>0.000000</td>\n",
              "      <td>1.000000</td>\n",
              "      <td>0.030303</td>\n",
              "    </tr>\n",
              "    <tr>\n",
              "      <th>25%</th>\n",
              "      <td>16.000000</td>\n",
              "      <td>2.000000</td>\n",
              "      <td>4.070000</td>\n",
              "      <td>9.000000</td>\n",
              "      <td>2.000000</td>\n",
              "      <td>1.000000</td>\n",
              "      <td>0.000000</td>\n",
              "      <td>3.000000</td>\n",
              "      <td>11.187500</td>\n",
              "    </tr>\n",
              "    <tr>\n",
              "      <th>50%</th>\n",
              "      <td>22.000000</td>\n",
              "      <td>4.000000</td>\n",
              "      <td>4.480000</td>\n",
              "      <td>10.000000</td>\n",
              "      <td>3.000000</td>\n",
              "      <td>2.000000</td>\n",
              "      <td>0.000000</td>\n",
              "      <td>5.000000</td>\n",
              "      <td>14.818182</td>\n",
              "    </tr>\n",
              "    <tr>\n",
              "      <th>75%</th>\n",
              "      <td>31.000000</td>\n",
              "      <td>12.000000</td>\n",
              "      <td>4.930000</td>\n",
              "      <td>12.000000</td>\n",
              "      <td>5.000000</td>\n",
              "      <td>4.000000</td>\n",
              "      <td>0.000000</td>\n",
              "      <td>8.000000</td>\n",
              "      <td>22.205882</td>\n",
              "    </tr>\n",
              "    <tr>\n",
              "      <th>max</th>\n",
              "      <td>92.000000</td>\n",
              "      <td>172573.000000</td>\n",
              "      <td>6.710000</td>\n",
              "      <td>15.000000</td>\n",
              "      <td>15.000000</td>\n",
              "      <td>12.000000</td>\n",
              "      <td>8.000000</td>\n",
              "      <td>11.000000</td>\n",
              "      <td>76.625000</td>\n",
              "    </tr>\n",
              "  </tbody>\n",
              "</table>\n",
              "</div>"
            ],
            "text/plain": [
              "            numWords  numOccurrences  ...  months_to_2018     SpeakerPop\n",
              "count  231454.000000   231454.000000  ...   231454.000000  231454.000000\n",
              "mean       25.164434       37.639216  ...        5.249315      18.066762\n",
              "std        11.813598      992.212243  ...        2.749254      11.036268\n",
              "min        12.000000        2.000000  ...        1.000000       0.030303\n",
              "25%        16.000000        2.000000  ...        3.000000      11.187500\n",
              "50%        22.000000        4.000000  ...        5.000000      14.818182\n",
              "75%        31.000000       12.000000  ...        8.000000      22.205882\n",
              "max        92.000000   172573.000000  ...       11.000000      76.625000\n",
              "\n",
              "[8 rows x 9 columns]"
            ]
          },
          "metadata": {},
          "execution_count": 50
        }
      ]
    },
    {
      "cell_type": "code",
      "source": [
        "m = smf.ols('''np.log(numOccurrences) ~ numWords + np.log(SpeakerPop)\n",
        "                + averageWordLength + largestWordLength + numOfPunctuation + numRepeatedWords''', \n",
        "            data=df_gt).fit()\n",
        "print('MSE:', mse(np.log(df_gt.numOccurrences), m.predict(df_gt)))\n",
        "print(m.summary())"
      ],
      "metadata": {
        "colab": {
          "base_uri": "https://localhost:8080/"
        },
        "id": "op3HoQZyH1rD",
        "outputId": "5c13e1f3-66d2-440e-c2c0-b8b82dbd14f0"
      },
      "execution_count": null,
      "outputs": [
        {
          "output_type": "stream",
          "name": "stdout",
          "text": [
            "MSE: 1.6781257399058862\n",
            "                              OLS Regression Results                              \n",
            "==================================================================================\n",
            "Dep. Variable:     np.log(numOccurrences)   R-squared:                       0.008\n",
            "Model:                                OLS   Adj. R-squared:                  0.008\n",
            "Method:                     Least Squares   F-statistic:                     329.9\n",
            "Date:                    Wed, 15 Dec 2021   Prob (F-statistic):               0.00\n",
            "Time:                            22:11:41   Log-Likelihood:            -3.8833e+05\n",
            "No. Observations:                  231454   AIC:                         7.767e+05\n",
            "Df Residuals:                      231447   BIC:                         7.767e+05\n",
            "Df Model:                               6                                         \n",
            "Covariance Type:                nonrobust                                         \n",
            "======================================================================================\n",
            "                         coef    std err          t      P>|t|      [0.025      0.975]\n",
            "--------------------------------------------------------------------------------------\n",
            "Intercept              2.2672      0.023     96.668      0.000       2.221       2.313\n",
            "numWords              -0.0107      0.000    -24.899      0.000      -0.012      -0.010\n",
            "np.log(SpeakerPop)    -0.0330      0.004     -8.596      0.000      -0.041      -0.025\n",
            "averageWordLength     -0.0214      0.005     -3.896      0.000      -0.032      -0.011\n",
            "largestWordLength      0.0022      0.002      1.254      0.210      -0.001       0.006\n",
            "numOfPunctuation       0.0044      0.001      3.513      0.000       0.002       0.007\n",
            "numRepeatedWords       0.0009      0.002      0.476      0.634      -0.003       0.005\n",
            "==============================================================================\n",
            "Omnibus:                    54484.686   Durbin-Watson:                   1.999\n",
            "Prob(Omnibus):                  0.000   Jarque-Bera (JB):           112617.410\n",
            "Skew:                           1.401   Prob(JB):                         0.00\n",
            "Kurtosis:                       4.956   Cond. No.                         268.\n",
            "==============================================================================\n",
            "\n",
            "Warnings:\n",
            "[1] Standard Errors assume that the covariance matrix of the errors is correctly specified.\n"
          ]
        }
      ]
    },
    {
      "cell_type": "code",
      "source": [
        "# Regress all the squares and interaction terms on log(numOccurrences)\n",
        "names = ['numWords', 'averageWordLength', 'largestWordLength',\n",
        "        'numOfPunctuation', 'numRepeatedWords', 'SpeakerPop']\n",
        "X = df_gt[names]\n",
        "poly = PolynomialFeatures(2)\n",
        "X = poly.fit_transform(X)\n",
        "X = pd.DataFrame(data=X, columns=poly.get_feature_names_out(names))\n",
        "m1 = sm.OLS(np.log(df_gt.numOccurrences), X).fit()\n",
        "print('MSE:', mse(np.log(df_gt.numOccurrences), m1.predict(X)))\n",
        "print(m1.summary())"
      ],
      "metadata": {
        "colab": {
          "base_uri": "https://localhost:8080/"
        },
        "id": "fkzHI3JBHrXG",
        "outputId": "31f49e20-902c-4520-f22f-90a60c6ad7ee"
      },
      "execution_count": null,
      "outputs": [
        {
          "output_type": "stream",
          "name": "stdout",
          "text": [
            "MSE: 1.6748944466806117\n",
            "                            OLS Regression Results                            \n",
            "==============================================================================\n",
            "Dep. Variable:         numOccurrences   R-squared:                       0.010\n",
            "Model:                            OLS   Adj. R-squared:                  0.010\n",
            "Method:                 Least Squares   F-statistic:                     89.98\n",
            "Date:                Wed, 15 Dec 2021   Prob (F-statistic):               0.00\n",
            "Time:                        22:11:42   Log-Likelihood:            -3.8811e+05\n",
            "No. Observations:              231454   AIC:                         7.763e+05\n",
            "Df Residuals:                  231426   BIC:                         7.766e+05\n",
            "Df Model:                          27                                         \n",
            "Covariance Type:            nonrobust                                         \n",
            "=======================================================================================================\n",
            "                                          coef    std err          t      P>|t|      [0.025      0.975]\n",
            "-------------------------------------------------------------------------------------------------------\n",
            "1                                       1.4031      0.125     11.265      0.000       1.159       1.647\n",
            "numWords                               -0.0059      0.004     -1.589      0.112      -0.013       0.001\n",
            "averageWordLength                       0.3815      0.057      6.683      0.000       0.270       0.493\n",
            "largestWordLength                      -0.0271      0.015     -1.824      0.068      -0.056       0.002\n",
            "numOfPunctuation                        0.0403      0.011      3.779      0.000       0.019       0.061\n",
            "numRepeatedWords                        0.0340      0.016      2.080      0.038       0.002       0.066\n",
            "SpeakerPop                             -0.0127      0.002     -6.421      0.000      -0.017      -0.009\n",
            "numWords^2                          -6.365e-05   4.09e-05     -1.555      0.120      -0.000    1.66e-05\n",
            "numWords averageWordLength             -0.0011      0.001     -1.209      0.227      -0.003       0.001\n",
            "numWords largestWordLength              0.0001      0.000      0.482      0.630      -0.000       0.001\n",
            "numWords numOfPunctuation              -0.0002      0.000     -1.156      0.248      -0.001       0.000\n",
            "numWords numRepeatedWords               0.0005      0.000      1.487      0.137      -0.000       0.001\n",
            "numWords SpeakerPop                     0.0001   4.01e-05      3.249      0.001    5.17e-05       0.000\n",
            "averageWordLength^2                    -0.0399      0.008     -5.106      0.000      -0.055      -0.025\n",
            "averageWordLength largestWordLength     0.0005      0.004      0.113      0.910      -0.008       0.009\n",
            "averageWordLength numOfPunctuation     -0.0019      0.003     -0.719      0.472      -0.007       0.003\n",
            "averageWordLength numRepeatedWords     -0.0075      0.004     -1.764      0.078      -0.016       0.001\n",
            "averageWordLength SpeakerPop            0.0008      0.000      1.552      0.121      -0.000       0.002\n",
            "largestWordLength^2                     0.0004      0.001      0.494      0.622      -0.001       0.002\n",
            "largestWordLength numOfPunctuation      0.0008      0.001      0.973      0.331      -0.001       0.002\n",
            "largestWordLength numRepeatedWords     -0.0009      0.001     -0.749      0.454      -0.003       0.002\n",
            "largestWordLength SpeakerPop            0.0006      0.000      3.921      0.000       0.000       0.001\n",
            "numOfPunctuation^2                     -0.0012      0.000     -3.200      0.001      -0.002      -0.000\n",
            "numOfPunctuation numRepeatedWords      -0.0011      0.001     -1.376      0.169      -0.003       0.000\n",
            "numOfPunctuation SpeakerPop            -0.0007      0.000     -5.842      0.000      -0.001      -0.000\n",
            "numRepeatedWords^2                      0.0003      0.001      0.393      0.694      -0.001       0.002\n",
            "numRepeatedWords SpeakerPop            -0.0002      0.000     -1.315      0.188      -0.001       0.000\n",
            "SpeakerPop^2                        -2.197e-05    1.4e-05     -1.575      0.115   -4.93e-05    5.37e-06\n",
            "==============================================================================\n",
            "Omnibus:                    54448.659   Durbin-Watson:                   1.999\n",
            "Prob(Omnibus):                  0.000   Jarque-Bera (JB):           112783.725\n",
            "Skew:                           1.398   Prob(JB):                         0.00\n",
            "Kurtosis:                       4.968   Cond. No.                     6.85e+04\n",
            "==============================================================================\n",
            "\n",
            "Warnings:\n",
            "[1] Standard Errors assume that the covariance matrix of the errors is correctly specified.\n",
            "[2] The condition number is large, 6.85e+04. This might indicate that there are\n",
            "strong multicollinearity or other numerical problems.\n"
          ]
        }
      ]
    },
    {
      "cell_type": "markdown",
      "source": [
        "## Check accounting for effects of speaker\n",
        "\n",
        "Last step is to account for confounding features which might be associated with a speaker. We take quotes of Narendra Modi, with a total sample of 10000. We fail to find anything useful. In this sample, only number of words is statistically significant."
      ],
      "metadata": {
        "id": "HdDC-8ucFFjd"
      }
    },
    {
      "cell_type": "code",
      "source": [
        "df_nm = df_all[df_all.speaker == 'Narendra Modi'].reset_index(drop=1)\n",
        "m = smf.ols('''np.log(numOccurrences) ~ numWords\n",
        "                + averageWordLength + largestWordLength + numOfPunctuation + numRepeatedWords''', \n",
        "            data=df_nm).fit()\n",
        "print('MSE:', mse(np.log(df_nm.numOccurrences), m.predict(df_nm)))\n",
        "print(m.summary())"
      ],
      "metadata": {
        "colab": {
          "base_uri": "https://localhost:8080/"
        },
        "id": "ALMkYKPWM4Si",
        "outputId": "1181a824-14c8-42a6-a0e5-6bfc0d248a94"
      },
      "execution_count": null,
      "outputs": [
        {
          "output_type": "stream",
          "name": "stdout",
          "text": [
            "MSE: 0.6482046254431185\n",
            "                              OLS Regression Results                              \n",
            "==================================================================================\n",
            "Dep. Variable:     np.log(numOccurrences)   R-squared:                       0.009\n",
            "Model:                                OLS   Adj. R-squared:                  0.009\n",
            "Method:                     Least Squares   F-statistic:                     19.91\n",
            "Date:                    Wed, 15 Dec 2021   Prob (F-statistic):           8.14e-20\n",
            "Time:                            22:27:14   Log-Likelihood:                -12670.\n",
            "No. Observations:                   10539   AIC:                         2.535e+04\n",
            "Df Residuals:                       10533   BIC:                         2.539e+04\n",
            "Df Model:                               5                                         \n",
            "Covariance Type:                nonrobust                                         \n",
            "=====================================================================================\n",
            "                        coef    std err          t      P>|t|      [0.025      0.975]\n",
            "-------------------------------------------------------------------------------------\n",
            "Intercept             1.5905      0.070     22.715      0.000       1.453       1.728\n",
            "numWords             -0.0054      0.001     -4.172      0.000      -0.008      -0.003\n",
            "averageWordLength     0.0366      0.017      2.204      0.028       0.004       0.069\n",
            "largestWordLength    -0.0066      0.005     -1.250      0.212      -0.017       0.004\n",
            "numOfPunctuation      0.0049      0.004      1.249      0.212      -0.003       0.012\n",
            "numRepeatedWords     -0.0048      0.006     -0.839      0.401      -0.016       0.006\n",
            "==============================================================================\n",
            "Omnibus:                      811.973   Durbin-Watson:                   1.998\n",
            "Prob(Omnibus):                  0.000   Jarque-Bera (JB):             1015.330\n",
            "Skew:                           0.760   Prob(JB):                    3.34e-221\n",
            "Kurtosis:                       2.961   Cond. No.                         301.\n",
            "==============================================================================\n",
            "\n",
            "Warnings:\n",
            "[1] Standard Errors assume that the covariance matrix of the errors is correctly specified.\n"
          ]
        }
      ]
    },
    {
      "cell_type": "code",
      "source": [
        "# Regress all the squares and interaction terms on log(numOccurrences)\n",
        "names = ['numWords', 'averageWordLength', 'largestWordLength',\n",
        "        'numOfPunctuation', 'numRepeatedWords']\n",
        "X = df_nm[names]\n",
        "poly = PolynomialFeatures(2)\n",
        "X = poly.fit_transform(X)\n",
        "X = pd.DataFrame(data=X, columns=poly.get_feature_names_out(names))\n",
        "m1 = sm.OLS(np.log(df_nm.numOccurrences), X).fit()\n",
        "print('MSE:', mse(np.log(df_nm.numOccurrences), m1.predict(X)))\n",
        "print(m1.summary())"
      ],
      "metadata": {
        "colab": {
          "base_uri": "https://localhost:8080/"
        },
        "id": "AU-lG2AEFLSl",
        "outputId": "32a94410-5d3a-4218-d6dc-0bb1d875c958"
      },
      "execution_count": null,
      "outputs": [
        {
          "output_type": "stream",
          "name": "stdout",
          "text": [
            "MSE: 0.6452632688470921\n",
            "                            OLS Regression Results                            \n",
            "==============================================================================\n",
            "Dep. Variable:         numOccurrences   R-squared:                       0.014\n",
            "Model:                            OLS   Adj. R-squared:                  0.012\n",
            "Method:                 Least Squares   F-statistic:                     7.391\n",
            "Date:                Wed, 15 Dec 2021   Prob (F-statistic):           2.44e-21\n",
            "Time:                        22:26:26   Log-Likelihood:                -12646.\n",
            "No. Observations:               10539   AIC:                         2.533e+04\n",
            "Df Residuals:                   10518   BIC:                         2.549e+04\n",
            "Df Model:                          20                                         \n",
            "Covariance Type:            nonrobust                                         \n",
            "=======================================================================================================\n",
            "                                          coef    std err          t      P>|t|      [0.025      0.975]\n",
            "-------------------------------------------------------------------------------------------------------\n",
            "1                                       0.8237      0.433      1.902      0.057      -0.025       1.673\n",
            "numWords                                0.0154      0.012      1.249      0.212      -0.009       0.040\n",
            "averageWordLength                       0.1567      0.190      0.823      0.410      -0.216       0.530\n",
            "largestWordLength                       0.0198      0.051      0.391      0.695      -0.079       0.119\n",
            "numOfPunctuation                        0.0039      0.036      0.110      0.912      -0.066       0.074\n",
            "numRepeatedWords                        0.0547      0.054      1.017      0.309      -0.051       0.160\n",
            "numWords^2                             -0.0004      0.000     -2.948      0.003      -0.001      -0.000\n",
            "numWords averageWordLength             -0.0014      0.003     -0.496      0.620      -0.007       0.004\n",
            "numWords largestWordLength           4.865e-05      0.001      0.057      0.955      -0.002       0.002\n",
            "numWords numOfPunctuation               0.0012      0.001      2.061      0.039    5.78e-05       0.002\n",
            "numWords numRepeatedWords               0.0014      0.001      1.376      0.169      -0.001       0.003\n",
            "averageWordLength^2                     0.0014      0.025      0.057      0.955      -0.048       0.050\n",
            "averageWordLength largestWordLength    -0.0051      0.013     -0.394      0.693      -0.030       0.020\n",
            "averageWordLength numOfPunctuation     -0.0076      0.008     -0.924      0.356      -0.024       0.009\n",
            "averageWordLength numRepeatedWords     -0.0071      0.013     -0.557      0.577      -0.032       0.018\n",
            "largestWordLength^2                    -0.0004      0.003     -0.169      0.866      -0.006       0.005\n",
            "largestWordLength numOfPunctuation      0.0044      0.003      1.687      0.092      -0.001       0.010\n",
            "largestWordLength numRepeatedWords     -0.0048      0.004     -1.254      0.210      -0.012       0.003\n",
            "numOfPunctuation^2                     -0.0028      0.001     -2.407      0.016      -0.005      -0.001\n",
            "numOfPunctuation numRepeatedWords      -0.0052      0.002     -2.107      0.035      -0.010      -0.000\n",
            "numRepeatedWords^2                      0.0003      0.003      0.110      0.912      -0.005       0.005\n",
            "==============================================================================\n",
            "Omnibus:                      812.736   Durbin-Watson:                   2.000\n",
            "Prob(Omnibus):                  0.000   Jarque-Bera (JB):             1016.715\n",
            "Skew:                           0.761   Prob(JB):                    1.67e-221\n",
            "Kurtosis:                       2.976   Cond. No.                     8.14e+04\n",
            "==============================================================================\n",
            "\n",
            "Warnings:\n",
            "[1] Standard Errors assume that the covariance matrix of the errors is correctly specified.\n",
            "[2] The condition number is large, 8.14e+04. This might indicate that there are\n",
            "strong multicollinearity or other numerical problems.\n"
          ]
        }
      ]
    }
  ]
}